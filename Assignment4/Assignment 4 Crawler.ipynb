{
 "cells": [
  {
   "cell_type": "code",
   "execution_count": null,
   "metadata": {
    "Rmd_chunk_options": "setup, include=FALSE",
    "autoscroll": false,
    "collapsed": true
   },
   "outputs": [],
   "source": [
    "knitr::opts_chunk$set(echo = TRUE)"
   ]
  },
  {
   "cell_type": "markdown",
   "metadata": {},
   "source": [
    "\n",
    "## Question 1.\n",
    "#### Suppose we have a matrix of 1s and 0s. We want to create a vector as follows: for each row of the matrix, the corresponding element of the vector will be either 1 or 0, depending on whether the majority of the first c elements in the row is 1 or 0. Here c will be a parameter which we want to control. Create a function to perform this task.\n",
    "\n"
   ]
  },
  {
   "cell_type": "code",
   "execution_count": null,
   "metadata": {
    "autoscroll": false,
    "collapsed": true
   },
   "outputs": [],
   "source": [
    "rowsWithMajorityOnes <- function(m, c) {\n",
    "\n",
    "  if (!is.matrix(m)){\n",
    "    return(\"Error. First parameter must be a matrix.\")\n",
    "  }\n",
    "  else if (any((m==0)+(m==1) != 1)){\n",
    "    return(\"Error. Matrix can only contain values of 0 or 1.\")\n",
    "  }\n",
    "  if (c > dim(m)[2]){\n",
    "    return(\"Error. Second parameter c must not be greater than number of columns in matrix.\")\n",
    "  }\n",
    "\n",
    "  v = (length=dim(m)[1])\n",
    "  for (i in 1:dim(m)[1]) {\n",
    "    v[i] <- ifelse(sum(m[i,1:c])>=(c/2), 1, 0)\n",
    " }\n",
    "  return(v)\n",
    "}"
   ]
  },
  {
   "cell_type": "markdown",
   "metadata": {},
   "source": [
    "\n",
    "The following is an example to test the rowsWithMajorityOnes function.\n"
   ]
  },
  {
   "cell_type": "code",
   "execution_count": null,
   "metadata": {
    "autoscroll": false,
    "collapsed": true
   },
   "outputs": [],
   "source": [
    "m <- matrix(nrow=5, ncol=7)\n",
    "m <- apply(m, c(1,2), function(x) sample(c(0,1),1))\n",
    "c = 5\n",
    "\n",
    "m\n",
    "rowsWithMajorityOnes(m, c)"
   ]
  },
  {
   "cell_type": "markdown",
   "metadata": {},
   "source": [
    "\n",
    "## Question 2.\n",
    "#### Create a script to crawl all property data from SRX.com.sg.\n",
    "\n"
   ]
  },
  {
   "cell_type": "code",
   "execution_count": null,
   "metadata": {
    "autoscroll": false,
    "collapsed": true
   },
   "outputs": [],
   "source": [
    "library(magrittr)\n",
    "library(dplyr)\n",
    "library(rvest)\n",
    "\n",
    "host_url = 'https://www.srx.com.sg'\n",
    "\n",
    "# this function will fetch all listing nodes and return them as a list\n",
    "fetch_property_nodes = function(page) {\n",
    "    url = paste(host_url, \"/search/sale/residential?page=\", page, sep = \"\")\n",
    "    srx_html = read_html(url)\n",
    "    listing = html_nodes(srx_html, \".listingDetailTitle\")\n",
    "    if(length(listing) == 0)\n",
    "        return(c('Done'))\n",
    "    return(listing)\n",
    "}\n",
    "\n",
    "# this is just a try-catch wrapper on top of ^\n",
    "trycatch_fetch_property_notes = function(n) {\n",
    "    result = tryCatch({\n",
    "        return (fetch_property_nodes(n))\n",
    "    }, warning = function(n) {\n",
    "        print(paste(\"Warning in crawling the \", n, \"th page of SRX\", sep = \"\"))\n",
    "    }, error = function(n) {\n",
    "        print(paste(\"Error in crawling the \", n, \"th page of SRX\", sep = \"\"))\n",
    "        return(c('Done'))\n",
    "    }, finally = function(n) {\n",
    "    })\n",
    "    return (result)\n",
    "}\n",
    "\n",
    "# this function takes in the node's 1) details 2) facilities and 3) agent name and spits out a single-row df for entry\n",
    "get_df_from_node_list = function(listing_info_node, facilities_info_node, agent_name) {\n",
    "    labels = listing_info_node %>% html_children %>% `[`(c(T, F)) %>% html_text %>% takeout_last_char\n",
    "    values = listing_info_node %>% html_children %>% `[`(c(F, T)) %>% html_text %>% remove_tabs\n",
    "    facilities = facilities_info %>% html_children %>% html_text %>% remove_tabs %>% paste(collapse=' | ')\n",
    "\n",
    "    data_list = list()\n",
    "    data_list[labels] = values\n",
    "    data_list['Facilities'] = facilities\n",
    "    data_list['Agent'] = agent_name\n",
    "\n",
    "    data_list %>% as.data.frame\n",
    "}\n",
    "\n",
    "# simple function to remove spaces of all kinds\n",
    "remove_tabs = function(x) {\n",
    "    gsub(\"([\\t]|[\\r\\n])\", \"\", x)\n",
    "}\n",
    "\n",
    "# simple function to remove the colon from the label\n",
    "takeout_last_char = function(x) {\n",
    "    x %>% substr(1, nchar(x) - 1)\n",
    "}\n",
    "\n",
    "# the real script,\n",
    "# 1. calls a query for each page\n",
    "# 2. for every listing, call a query to pull data about listing\n",
    "# 3. feeds listing data into get_df_from_node_list to get a single row df\n",
    "# 4. stitch df into main df\n",
    "# 5. breaks when done\n",
    "#\n",
    "# this function can be further refactored for SLAP (not important for this mod)\n",
    "\n",
    "n = 1L\n",
    "prop_df = data.frame()\n",
    "\n",
    "while(n < 100000){ #we use 100,000 instead of TRUE so that even if the code fails, we don't go on forever\n",
    "    property = trycatch_fetch_property_notes(n)\n",
    "\n",
    "    if (property[1] == 'Done') {\n",
    "        break\n",
    "    }\n",
    "\n",
    "    for (i in 1:length(property)) {\n",
    "        listing_url = paste(host_url, html_attr(property[i], 'href'), sep=\"\")\n",
    "        listing_html = read_html(listing_url)\n",
    "        listing_data = html_nodes(listing_html, '.listing-about-main')\n",
    "        listing_info = html_nodes(listing_data[1], 'p')\n",
    "        facilities_info = listing_data[2]\n",
    "        agent_name = listing_html %>% html_node('.featuredAgentName') %>% html_text\n",
    "        row_df = get_df_from_node_list(listing_info, facilities_info, agent_name)\n",
    "        prop_df = suppressWarnings(bind_rows(prop_df, row_df))\n",
    "    }\n",
    "\n",
    "    n = n + 1\n",
    "}\n",
    "\n",
    "prop_df %>% head\n",
    "\n",
    "prop_df %>% write.csv(file='srx (Team 6).csv')"
   ]
  }
 ],
 "metadata": {
  "Rmd_header": {
   "author": "Ning Yu, Wong Jun Hao Marcus, Peter Haw Han Beng, Han Zixuan, Daniel Wong Sing Dong",
   "date": "2/4/2018",
   "output": "html_document",
   "title": "Assignment 2 - Team 6 (A0111277M A0124106X A0124177H A0129519X A0130771M)"
  },
  "kernelspec": {
   "display_name": "R",
   "language": "R",
   "name": "ir"
  },
  "language_info": {
   "codemirror_mode": "r",
   "file_extension": ".r",
   "mimetype": "text/x-r-source",
   "name": "R",
   "pygments_lexer": "r",
   "version": "3.4.3"
  }
 },
 "nbformat": 4,
 "nbformat_minor": 1
}
