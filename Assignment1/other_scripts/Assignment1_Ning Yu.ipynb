{
 "cells": [
  {
   "cell_type": "markdown",
   "metadata": {},
   "source": [
    "# Question 1 "
   ]
  },
  {
   "cell_type": "code",
   "execution_count": 1,
   "metadata": {
    "collapsed": true
   },
   "outputs": [
    {
     "name": "stderr",
     "output_type": "stream",
     "text": [
      "\n",
      "Attaching package: ‘dplyr’\n",
      "\n",
      "The following objects are masked from ‘package:stats’:\n",
      "\n",
      "    filter, lag\n",
      "\n",
      "The following objects are masked from ‘package:base’:\n",
      "\n",
      "    intersect, setdiff, setequal, union\n",
      "\n",
      "Loading required package: xml2\n"
     ]
    }
   ],
   "source": [
    "library(dplyr)\n",
    "library(rvest)"
   ]
  },
  {
   "cell_type": "code",
   "execution_count": 2,
   "metadata": {},
   "outputs": [
    {
     "data": {
      "text/html": [
       "<table>\n",
       "<thead><tr><th scope=col>Ozone</th><th scope=col>Solar.R</th><th scope=col>Wind</th><th scope=col>Temp</th><th scope=col>Month</th><th scope=col>Day</th></tr></thead>\n",
       "<tbody>\n",
       "\t<tr><td>41  </td><td>190 </td><td> 7.4</td><td>67  </td><td>5   </td><td>1   </td></tr>\n",
       "\t<tr><td>36  </td><td>118 </td><td> 8.0</td><td>72  </td><td>5   </td><td>2   </td></tr>\n",
       "\t<tr><td>12  </td><td>149 </td><td>12.6</td><td>74  </td><td>5   </td><td>3   </td></tr>\n",
       "\t<tr><td>18  </td><td>313 </td><td>11.5</td><td>62  </td><td>5   </td><td>4   </td></tr>\n",
       "\t<tr><td>NA  </td><td> NA </td><td>14.3</td><td>56  </td><td>5   </td><td>5   </td></tr>\n",
       "\t<tr><td>28  </td><td> NA </td><td>14.9</td><td>66  </td><td>5   </td><td>6   </td></tr>\n",
       "</tbody>\n",
       "</table>\n"
      ],
      "text/latex": [
       "\\begin{tabular}{r|llllll}\n",
       " Ozone & Solar.R & Wind & Temp & Month & Day\\\\\n",
       "\\hline\n",
       "\t 41   & 190  &  7.4 & 67   & 5    & 1   \\\\\n",
       "\t 36   & 118  &  8.0 & 72   & 5    & 2   \\\\\n",
       "\t 12   & 149  & 12.6 & 74   & 5    & 3   \\\\\n",
       "\t 18   & 313  & 11.5 & 62   & 5    & 4   \\\\\n",
       "\t NA   &  NA  & 14.3 & 56   & 5    & 5   \\\\\n",
       "\t 28   &  NA  & 14.9 & 66   & 5    & 6   \\\\\n",
       "\\end{tabular}\n"
      ],
      "text/markdown": [
       "\n",
       "Ozone | Solar.R | Wind | Temp | Month | Day | \n",
       "|---|---|---|---|---|---|\n",
       "| 41   | 190  |  7.4 | 67   | 5    | 1    | \n",
       "| 36   | 118  |  8.0 | 72   | 5    | 2    | \n",
       "| 12   | 149  | 12.6 | 74   | 5    | 3    | \n",
       "| 18   | 313  | 11.5 | 62   | 5    | 4    | \n",
       "| NA   |  NA  | 14.3 | 56   | 5    | 5    | \n",
       "| 28   |  NA  | 14.9 | 66   | 5    | 6    | \n",
       "\n",
       "\n"
      ],
      "text/plain": [
       "  Ozone Solar.R Wind Temp Month Day\n",
       "1 41    190      7.4 67   5     1  \n",
       "2 36    118      8.0 72   5     2  \n",
       "3 12    149     12.6 74   5     3  \n",
       "4 18    313     11.5 62   5     4  \n",
       "5 NA     NA     14.3 56   5     5  \n",
       "6 28     NA     14.9 66   5     6  "
      ]
     },
     "metadata": {},
     "output_type": "display_data"
    }
   ],
   "source": [
    "airquality %>% head"
   ]
  },
  {
   "cell_type": "markdown",
   "metadata": {},
   "source": [
    "(1) What are the dimensions of the data?"
   ]
  },
  {
   "cell_type": "code",
   "execution_count": 3,
   "metadata": {},
   "outputs": [
    {
     "data": {
      "text/html": [
       "<ol class=list-inline>\n",
       "\t<li>153</li>\n",
       "\t<li>6</li>\n",
       "</ol>\n"
      ],
      "text/latex": [
       "\\begin{enumerate*}\n",
       "\\item 153\n",
       "\\item 6\n",
       "\\end{enumerate*}\n"
      ],
      "text/markdown": [
       "1. 153\n",
       "2. 6\n",
       "\n",
       "\n"
      ],
      "text/plain": [
       "[1] 153   6"
      ]
     },
     "metadata": {},
     "output_type": "display_data"
    }
   ],
   "source": [
    "airquality %>% dim"
   ]
  },
  {
   "cell_type": "markdown",
   "metadata": {},
   "source": [
    "(2) What are the column names?"
   ]
  },
  {
   "cell_type": "code",
   "execution_count": 4,
   "metadata": {},
   "outputs": [
    {
     "data": {
      "text/html": [
       "<ol class=list-inline>\n",
       "\t<li>'Ozone'</li>\n",
       "\t<li>'Solar.R'</li>\n",
       "\t<li>'Wind'</li>\n",
       "\t<li>'Temp'</li>\n",
       "\t<li>'Month'</li>\n",
       "\t<li>'Day'</li>\n",
       "</ol>\n"
      ],
      "text/latex": [
       "\\begin{enumerate*}\n",
       "\\item 'Ozone'\n",
       "\\item 'Solar.R'\n",
       "\\item 'Wind'\n",
       "\\item 'Temp'\n",
       "\\item 'Month'\n",
       "\\item 'Day'\n",
       "\\end{enumerate*}\n"
      ],
      "text/markdown": [
       "1. 'Ozone'\n",
       "2. 'Solar.R'\n",
       "3. 'Wind'\n",
       "4. 'Temp'\n",
       "5. 'Month'\n",
       "6. 'Day'\n",
       "\n",
       "\n"
      ],
      "text/plain": [
       "[1] \"Ozone\"   \"Solar.R\" \"Wind\"    \"Temp\"    \"Month\"   \"Day\"    "
      ]
     },
     "metadata": {},
     "output_type": "display_data"
    }
   ],
   "source": [
    "airquality %>% colnames"
   ]
  },
  {
   "cell_type": "markdown",
   "metadata": {},
   "source": [
    "(3) Remove those rows with missing data."
   ]
  },
  {
   "cell_type": "code",
   "execution_count": 5,
   "metadata": {},
   "outputs": [
    {
     "data": {
      "text/html": [
       "<table>\n",
       "<thead><tr><th></th><th scope=col>Ozone</th><th scope=col>Solar.R</th><th scope=col>Wind</th><th scope=col>Temp</th><th scope=col>Month</th><th scope=col>Day</th></tr></thead>\n",
       "<tbody>\n",
       "\t<tr><th scope=row>1</th><td>41  </td><td>190 </td><td> 7.4</td><td>67  </td><td>5   </td><td>1   </td></tr>\n",
       "\t<tr><th scope=row>2</th><td>36  </td><td>118 </td><td> 8.0</td><td>72  </td><td>5   </td><td>2   </td></tr>\n",
       "\t<tr><th scope=row>3</th><td>12  </td><td>149 </td><td>12.6</td><td>74  </td><td>5   </td><td>3   </td></tr>\n",
       "\t<tr><th scope=row>4</th><td>18  </td><td>313 </td><td>11.5</td><td>62  </td><td>5   </td><td>4   </td></tr>\n",
       "\t<tr><th scope=row>7</th><td>23  </td><td>299 </td><td> 8.6</td><td>65  </td><td>5   </td><td>7   </td></tr>\n",
       "\t<tr><th scope=row>8</th><td>19  </td><td> 99 </td><td>13.8</td><td>59  </td><td>5   </td><td>8   </td></tr>\n",
       "</tbody>\n",
       "</table>\n"
      ],
      "text/latex": [
       "\\begin{tabular}{r|llllll}\n",
       "  & Ozone & Solar.R & Wind & Temp & Month & Day\\\\\n",
       "\\hline\n",
       "\t1 & 41   & 190  &  7.4 & 67   & 5    & 1   \\\\\n",
       "\t2 & 36   & 118  &  8.0 & 72   & 5    & 2   \\\\\n",
       "\t3 & 12   & 149  & 12.6 & 74   & 5    & 3   \\\\\n",
       "\t4 & 18   & 313  & 11.5 & 62   & 5    & 4   \\\\\n",
       "\t7 & 23   & 299  &  8.6 & 65   & 5    & 7   \\\\\n",
       "\t8 & 19   &  99  & 13.8 & 59   & 5    & 8   \\\\\n",
       "\\end{tabular}\n"
      ],
      "text/markdown": [
       "\n",
       "| <!--/--> | Ozone | Solar.R | Wind | Temp | Month | Day | \n",
       "|---|---|---|---|---|---|\n",
       "| 1 | 41   | 190  |  7.4 | 67   | 5    | 1    | \n",
       "| 2 | 36   | 118  |  8.0 | 72   | 5    | 2    | \n",
       "| 3 | 12   | 149  | 12.6 | 74   | 5    | 3    | \n",
       "| 4 | 18   | 313  | 11.5 | 62   | 5    | 4    | \n",
       "| 7 | 23   | 299  |  8.6 | 65   | 5    | 7    | \n",
       "| 8 | 19   |  99  | 13.8 | 59   | 5    | 8    | \n",
       "\n",
       "\n"
      ],
      "text/plain": [
       "  Ozone Solar.R Wind Temp Month Day\n",
       "1 41    190      7.4 67   5     1  \n",
       "2 36    118      8.0 72   5     2  \n",
       "3 12    149     12.6 74   5     3  \n",
       "4 18    313     11.5 62   5     4  \n",
       "7 23    299      8.6 65   5     7  \n",
       "8 19     99     13.8 59   5     8  "
      ]
     },
     "metadata": {},
     "output_type": "display_data"
    }
   ],
   "source": [
    "airquality_nona = airquality %>% na.omit\n",
    "airquality_nona %>% head"
   ]
  },
  {
   "cell_type": "markdown",
   "metadata": {},
   "source": [
    "(4) Find the sub set of the data where the “Month” is 5.\n"
   ]
  },
  {
   "cell_type": "code",
   "execution_count": 6,
   "metadata": {},
   "outputs": [
    {
     "data": {
      "text/html": [
       "<table>\n",
       "<thead><tr><th></th><th scope=col>Ozone</th><th scope=col>Solar.R</th><th scope=col>Wind</th><th scope=col>Temp</th><th scope=col>Month</th><th scope=col>Day</th></tr></thead>\n",
       "<tbody>\n",
       "\t<tr><th scope=row>1</th><td>41  </td><td>190 </td><td> 7.4</td><td>67  </td><td>5   </td><td>1   </td></tr>\n",
       "\t<tr><th scope=row>2</th><td>36  </td><td>118 </td><td> 8.0</td><td>72  </td><td>5   </td><td>2   </td></tr>\n",
       "\t<tr><th scope=row>3</th><td>12  </td><td>149 </td><td>12.6</td><td>74  </td><td>5   </td><td>3   </td></tr>\n",
       "\t<tr><th scope=row>4</th><td>18  </td><td>313 </td><td>11.5</td><td>62  </td><td>5   </td><td>4   </td></tr>\n",
       "\t<tr><th scope=row>7</th><td>23  </td><td>299 </td><td> 8.6</td><td>65  </td><td>5   </td><td>7   </td></tr>\n",
       "\t<tr><th scope=row>8</th><td>19  </td><td> 99 </td><td>13.8</td><td>59  </td><td>5   </td><td>8   </td></tr>\n",
       "</tbody>\n",
       "</table>\n"
      ],
      "text/latex": [
       "\\begin{tabular}{r|llllll}\n",
       "  & Ozone & Solar.R & Wind & Temp & Month & Day\\\\\n",
       "\\hline\n",
       "\t1 & 41   & 190  &  7.4 & 67   & 5    & 1   \\\\\n",
       "\t2 & 36   & 118  &  8.0 & 72   & 5    & 2   \\\\\n",
       "\t3 & 12   & 149  & 12.6 & 74   & 5    & 3   \\\\\n",
       "\t4 & 18   & 313  & 11.5 & 62   & 5    & 4   \\\\\n",
       "\t7 & 23   & 299  &  8.6 & 65   & 5    & 7   \\\\\n",
       "\t8 & 19   &  99  & 13.8 & 59   & 5    & 8   \\\\\n",
       "\\end{tabular}\n"
      ],
      "text/markdown": [
       "\n",
       "| <!--/--> | Ozone | Solar.R | Wind | Temp | Month | Day | \n",
       "|---|---|---|---|---|---|\n",
       "| 1 | 41   | 190  |  7.4 | 67   | 5    | 1    | \n",
       "| 2 | 36   | 118  |  8.0 | 72   | 5    | 2    | \n",
       "| 3 | 12   | 149  | 12.6 | 74   | 5    | 3    | \n",
       "| 4 | 18   | 313  | 11.5 | 62   | 5    | 4    | \n",
       "| 7 | 23   | 299  |  8.6 | 65   | 5    | 7    | \n",
       "| 8 | 19   |  99  | 13.8 | 59   | 5    | 8    | \n",
       "\n",
       "\n"
      ],
      "text/plain": [
       "  Ozone Solar.R Wind Temp Month Day\n",
       "1 41    190      7.4 67   5     1  \n",
       "2 36    118      8.0 72   5     2  \n",
       "3 12    149     12.6 74   5     3  \n",
       "4 18    313     11.5 62   5     4  \n",
       "7 23    299      8.6 65   5     7  \n",
       "8 19     99     13.8 59   5     8  "
      ]
     },
     "metadata": {},
     "output_type": "display_data"
    }
   ],
   "source": [
    "airquality_month5 = airquality_nona[airquality_nona$Month == 5,]\n",
    "airquality_month5 %>% head"
   ]
  },
  {
   "cell_type": "markdown",
   "metadata": {},
   "source": [
    "(5) How many rows of data are there with “Wind” between 7 and 8 inclusive?"
   ]
  },
  {
   "cell_type": "code",
   "execution_count": 7,
   "metadata": {},
   "outputs": [
    {
     "data": {
      "text/html": [
       "21"
      ],
      "text/latex": [
       "21"
      ],
      "text/markdown": [
       "21"
      ],
      "text/plain": [
       "[1] 21"
      ]
     },
     "metadata": {},
     "output_type": "display_data"
    }
   ],
   "source": [
    "airquality_wind78 = airquality[(airquality$Wind <= 8) & (airquality$Wind >= 7),]\n",
    "airquality_wind78 %>% nrow"
   ]
  },
  {
   "cell_type": "markdown",
   "metadata": {},
   "source": [
    "(6) *Suppose there is an air index calculated using the following formula\n",
    " $$index = \\dfrac{Solar.R \\times Wind}{Temp}$$\n",
    "Add a column named “Index” with the value calculated with the above formula to\n",
    "Airquality data set."
   ]
  },
  {
   "cell_type": "code",
   "execution_count": 8,
   "metadata": {},
   "outputs": [
    {
     "data": {
      "text/html": [
       "<table>\n",
       "<thead><tr><th scope=col>Ozone</th><th scope=col>Solar.R</th><th scope=col>Wind</th><th scope=col>Temp</th><th scope=col>Month</th><th scope=col>Day</th><th scope=col>Index</th></tr></thead>\n",
       "<tbody>\n",
       "\t<tr><td>41      </td><td>190     </td><td> 7.4    </td><td>67      </td><td>5       </td><td>1       </td><td>20.98507</td></tr>\n",
       "\t<tr><td>36      </td><td>118     </td><td> 8.0    </td><td>72      </td><td>5       </td><td>2       </td><td>13.11111</td></tr>\n",
       "\t<tr><td>12      </td><td>149     </td><td>12.6    </td><td>74      </td><td>5       </td><td>3       </td><td>25.37027</td></tr>\n",
       "\t<tr><td>18      </td><td>313     </td><td>11.5    </td><td>62      </td><td>5       </td><td>4       </td><td>58.05645</td></tr>\n",
       "\t<tr><td>NA      </td><td> NA     </td><td>14.3    </td><td>56      </td><td>5       </td><td>5       </td><td>      NA</td></tr>\n",
       "\t<tr><td>28      </td><td> NA     </td><td>14.9    </td><td>66      </td><td>5       </td><td>6       </td><td>      NA</td></tr>\n",
       "</tbody>\n",
       "</table>\n"
      ],
      "text/latex": [
       "\\begin{tabular}{r|lllllll}\n",
       " Ozone & Solar.R & Wind & Temp & Month & Day & Index\\\\\n",
       "\\hline\n",
       "\t 41       & 190      &  7.4     & 67       & 5        & 1        & 20.98507\\\\\n",
       "\t 36       & 118      &  8.0     & 72       & 5        & 2        & 13.11111\\\\\n",
       "\t 12       & 149      & 12.6     & 74       & 5        & 3        & 25.37027\\\\\n",
       "\t 18       & 313      & 11.5     & 62       & 5        & 4        & 58.05645\\\\\n",
       "\t NA       &  NA      & 14.3     & 56       & 5        & 5        &       NA\\\\\n",
       "\t 28       &  NA      & 14.9     & 66       & 5        & 6        &       NA\\\\\n",
       "\\end{tabular}\n"
      ],
      "text/markdown": [
       "\n",
       "Ozone | Solar.R | Wind | Temp | Month | Day | Index | \n",
       "|---|---|---|---|---|---|\n",
       "| 41       | 190      |  7.4     | 67       | 5        | 1        | 20.98507 | \n",
       "| 36       | 118      |  8.0     | 72       | 5        | 2        | 13.11111 | \n",
       "| 12       | 149      | 12.6     | 74       | 5        | 3        | 25.37027 | \n",
       "| 18       | 313      | 11.5     | 62       | 5        | 4        | 58.05645 | \n",
       "| NA       |  NA      | 14.3     | 56       | 5        | 5        |       NA | \n",
       "| 28       |  NA      | 14.9     | 66       | 5        | 6        |       NA | \n",
       "\n",
       "\n"
      ],
      "text/plain": [
       "  Ozone Solar.R Wind Temp Month Day Index   \n",
       "1 41    190      7.4 67   5     1   20.98507\n",
       "2 36    118      8.0 72   5     2   13.11111\n",
       "3 12    149     12.6 74   5     3   25.37027\n",
       "4 18    313     11.5 62   5     4   58.05645\n",
       "5 NA     NA     14.3 56   5     5         NA\n",
       "6 28     NA     14.9 66   5     6         NA"
      ]
     },
     "metadata": {},
     "output_type": "display_data"
    }
   ],
   "source": [
    "airquality$Index = airquality$Solar.R * airquality$Wind / airquality$Temp\n",
    "airquality %>% head"
   ]
  },
  {
   "cell_type": "markdown",
   "metadata": {},
   "source": [
    "(7) *Find the sub set of the new Airquality data with only “Solar.R”, ”Index”, ”Month”,\n",
    "and ”Day” columns and without missing value."
   ]
  },
  {
   "cell_type": "code",
   "execution_count": 9,
   "metadata": {},
   "outputs": [
    {
     "data": {
      "text/html": [
       "<table>\n",
       "<thead><tr><th></th><th scope=col>Solar.R</th><th scope=col>Index</th><th scope=col>Month</th><th scope=col>Day</th></tr></thead>\n",
       "<tbody>\n",
       "\t<tr><th scope=row>1</th><td>190     </td><td>20.98507</td><td>5       </td><td>1       </td></tr>\n",
       "\t<tr><th scope=row>2</th><td>118     </td><td>13.11111</td><td>5       </td><td>2       </td></tr>\n",
       "\t<tr><th scope=row>3</th><td>149     </td><td>25.37027</td><td>5       </td><td>3       </td></tr>\n",
       "\t<tr><th scope=row>4</th><td>313     </td><td>58.05645</td><td>5       </td><td>4       </td></tr>\n",
       "\t<tr><th scope=row>7</th><td>299     </td><td>39.56000</td><td>5       </td><td>7       </td></tr>\n",
       "\t<tr><th scope=row>8</th><td> 99     </td><td>23.15593</td><td>5       </td><td>8       </td></tr>\n",
       "</tbody>\n",
       "</table>\n"
      ],
      "text/latex": [
       "\\begin{tabular}{r|llll}\n",
       "  & Solar.R & Index & Month & Day\\\\\n",
       "\\hline\n",
       "\t1 & 190      & 20.98507 & 5        & 1       \\\\\n",
       "\t2 & 118      & 13.11111 & 5        & 2       \\\\\n",
       "\t3 & 149      & 25.37027 & 5        & 3       \\\\\n",
       "\t4 & 313      & 58.05645 & 5        & 4       \\\\\n",
       "\t7 & 299      & 39.56000 & 5        & 7       \\\\\n",
       "\t8 &  99      & 23.15593 & 5        & 8       \\\\\n",
       "\\end{tabular}\n"
      ],
      "text/markdown": [
       "\n",
       "| <!--/--> | Solar.R | Index | Month | Day | \n",
       "|---|---|---|---|---|---|\n",
       "| 1 | 190      | 20.98507 | 5        | 1        | \n",
       "| 2 | 118      | 13.11111 | 5        | 2        | \n",
       "| 3 | 149      | 25.37027 | 5        | 3        | \n",
       "| 4 | 313      | 58.05645 | 5        | 4        | \n",
       "| 7 | 299      | 39.56000 | 5        | 7        | \n",
       "| 8 |  99      | 23.15593 | 5        | 8        | \n",
       "\n",
       "\n"
      ],
      "text/plain": [
       "  Solar.R Index    Month Day\n",
       "1 190     20.98507 5     1  \n",
       "2 118     13.11111 5     2  \n",
       "3 149     25.37027 5     3  \n",
       "4 313     58.05645 5     4  \n",
       "7 299     39.56000 5     7  \n",
       "8  99     23.15593 5     8  "
      ]
     },
     "metadata": {},
     "output_type": "display_data"
    }
   ],
   "source": [
    "airquality_7 = airquality[c('Solar.R', 'Index', 'Month', 'Day')] %>% na.omit\n",
    "airquality_7 %>% head"
   ]
  },
  {
   "cell_type": "markdown",
   "metadata": {},
   "source": [
    "(8) Find the last “Day” of each “Month”."
   ]
  },
  {
   "cell_type": "code",
   "execution_count": 10,
   "metadata": {},
   "outputs": [
    {
     "data": {
      "text/html": [
       "<table>\n",
       "<thead><tr><th></th><th scope=col>.</th></tr></thead>\n",
       "<tbody>\n",
       "\t<tr><th scope=row>5</th><td>31</td></tr>\n",
       "\t<tr><th scope=row>6</th><td>30</td></tr>\n",
       "\t<tr><th scope=row>7</th><td>31</td></tr>\n",
       "\t<tr><th scope=row>8</th><td>31</td></tr>\n",
       "\t<tr><th scope=row>9</th><td>30</td></tr>\n",
       "</tbody>\n",
       "</table>\n"
      ],
      "text/latex": [
       "\\begin{tabular}{r|l}\n",
       "  & .\\\\\n",
       "\\hline\n",
       "\t5 & 31\\\\\n",
       "\t6 & 30\\\\\n",
       "\t7 & 31\\\\\n",
       "\t8 & 31\\\\\n",
       "\t9 & 30\\\\\n",
       "\\end{tabular}\n"
      ],
      "text/markdown": [
       "\n",
       "| <!--/--> | . | \n",
       "|---|---|---|---|---|\n",
       "| 5 | 31 | \n",
       "| 6 | 30 | \n",
       "| 7 | 31 | \n",
       "| 8 | 31 | \n",
       "| 9 | 30 | \n",
       "\n",
       "\n"
      ],
      "text/plain": [
       "  . \n",
       "5 31\n",
       "6 30\n",
       "7 31\n",
       "8 31\n",
       "9 30"
      ]
     },
     "metadata": {},
     "output_type": "display_data"
    }
   ],
   "source": [
    "airq_month = airquality$Day %>% tapply(airquality$Month, max) %>% as.data.frame\n",
    "airq_month"
   ]
  },
  {
   "cell_type": "markdown",
   "metadata": {},
   "source": [
    "(9) Find the maximum and minimum temperature of each month."
   ]
  },
  {
   "cell_type": "code",
   "execution_count": 11,
   "metadata": {},
   "outputs": [
    {
     "data": {
      "text/html": [
       "<table>\n",
       "<thead><tr><th></th><th scope=col>min</th><th scope=col>max</th><th scope=col>lastday</th></tr></thead>\n",
       "<tbody>\n",
       "\t<tr><th scope=row>5</th><td>56</td><td>81</td><td>31</td></tr>\n",
       "\t<tr><th scope=row>6</th><td>65</td><td>93</td><td>30</td></tr>\n",
       "\t<tr><th scope=row>7</th><td>73</td><td>92</td><td>31</td></tr>\n",
       "\t<tr><th scope=row>8</th><td>72</td><td>97</td><td>31</td></tr>\n",
       "\t<tr><th scope=row>9</th><td>63</td><td>93</td><td>30</td></tr>\n",
       "</tbody>\n",
       "</table>\n"
      ],
      "text/latex": [
       "\\begin{tabular}{r|lll}\n",
       "  & min & max & lastday\\\\\n",
       "\\hline\n",
       "\t5 & 56 & 81 & 31\\\\\n",
       "\t6 & 65 & 93 & 30\\\\\n",
       "\t7 & 73 & 92 & 31\\\\\n",
       "\t8 & 72 & 97 & 31\\\\\n",
       "\t9 & 63 & 93 & 30\\\\\n",
       "\\end{tabular}\n"
      ],
      "text/markdown": [
       "\n",
       "| <!--/--> | min | max | lastday | \n",
       "|---|---|---|---|---|\n",
       "| 5 | 56 | 81 | 31 | \n",
       "| 6 | 65 | 93 | 30 | \n",
       "| 7 | 73 | 92 | 31 | \n",
       "| 8 | 72 | 97 | 31 | \n",
       "| 9 | 63 | 93 | 30 | \n",
       "\n",
       "\n"
      ],
      "text/plain": [
       "  min max lastday\n",
       "5 56  81  31     \n",
       "6 65  93  30     \n",
       "7 73  92  31     \n",
       "8 72  97  31     \n",
       "9 63  93  30     "
      ]
     },
     "metadata": {},
     "output_type": "display_data"
    }
   ],
   "source": [
    "airq_month$min = (airquality$Temp %>% tapply(airquality$Month, min) %>% as.vector)\n",
    "airq_month$max = (airquality$Temp %>% tapply(airquality$Month, max) %>% as.vector)\n",
    "airq_month$lastday = airq_month$.\n",
    "airq_month$. = NULL\n",
    "airq_month"
   ]
  },
  {
   "cell_type": "markdown",
   "metadata": {},
   "source": [
    "# Q2. \n",
    "\n",
    "Construct a data frame containing all countries in the world and the corresponding continents by crawling data from http://statisticstimes.com/geography/countries-by-continents.php."
   ]
  },
  {
   "cell_type": "code",
   "execution_count": 12,
   "metadata": {},
   "outputs": [],
   "source": [
    "countries_html = read_html('http://statisticstimes.com/geography/countries-by-continents.php')"
   ]
  },
  {
   "cell_type": "code",
   "execution_count": 13,
   "metadata": {},
   "outputs": [
    {
     "data": {
      "text/plain": [
       "{xml_nodeset (6)}\n",
       "[1] <table id=\"table_id1\" class=\"display\" style=\"width:370px;display:table;bo ...\n",
       "[2] <table id=\"table_id2\" class=\"display\" style=\"width:370px;display:table;bo ...\n",
       "[3] <table id=\"table_id3\" class=\"display\" style=\"width:370px;display:table;bo ...\n",
       "[4] <table id=\"table_id4\" class=\"display\" style=\"width:370px;display:table;bo ...\n",
       "[5] <table id=\"table_id5\" class=\"display\" style=\"width:370px;display:table;bo ...\n",
       "[6] <table id=\"table_id6\" class=\"display\" style=\"width:370px;display:table;bo ..."
      ]
     },
     "metadata": {},
     "output_type": "display_data"
    }
   ],
   "source": [
    "continents = html_nodes(countries_html, '.display')\n",
    "continents"
   ]
  },
  {
   "cell_type": "code",
   "execution_count": 14,
   "metadata": {
    "scrolled": true
   },
   "outputs": [
    {
     "data": {
      "text/html": [
       "<table>\n",
       "<thead><tr><th scope=col>Continent</th><th scope=col>Country</th></tr></thead>\n",
       "<tbody>\n",
       "\t<tr><td>Africa                          </td><td>Burundi                         </td></tr>\n",
       "\t<tr><td>Africa                          </td><td>Comoros                         </td></tr>\n",
       "\t<tr><td>Africa                          </td><td>Djibouti                        </td></tr>\n",
       "\t<tr><td>Africa                          </td><td>Eritrea                         </td></tr>\n",
       "\t<tr><td>Africa                          </td><td>Ethiopia                        </td></tr>\n",
       "\t<tr><td>Africa                          </td><td>Kenya                           </td></tr>\n",
       "\t<tr><td>Africa                          </td><td>Madagascar                      </td></tr>\n",
       "\t<tr><td>Africa                          </td><td>Malawi                          </td></tr>\n",
       "\t<tr><td>Africa                          </td><td>Mauritius                       </td></tr>\n",
       "\t<tr><td>Africa                          </td><td>Mayotte                         </td></tr>\n",
       "\t<tr><td>Africa                          </td><td>Mozambique                      </td></tr>\n",
       "\t<tr><td>Africa                          </td><td>Réunion                         </td></tr>\n",
       "\t<tr><td>Africa                          </td><td>Rwanda                          </td></tr>\n",
       "\t<tr><td>Africa                          </td><td>Seychelles                      </td></tr>\n",
       "\t<tr><td>Africa                          </td><td>Somalia                         </td></tr>\n",
       "\t<tr><td>Africa                          </td><td>South Sudan                     </td></tr>\n",
       "\t<tr><td>Africa                          </td><td>Uganda                          </td></tr>\n",
       "\t<tr><td>Africa                          </td><td>United Republic of Tanzania     </td></tr>\n",
       "\t<tr><td>Africa                          </td><td>Zambia                          </td></tr>\n",
       "\t<tr><td>Africa                          </td><td>Zimbabwe                        </td></tr>\n",
       "\t<tr><td>Africa                          </td><td>Angola                          </td></tr>\n",
       "\t<tr><td>Africa                          </td><td>Cameroon                        </td></tr>\n",
       "\t<tr><td>Africa                          </td><td>Central African Republic        </td></tr>\n",
       "\t<tr><td>Africa                          </td><td>Chad                            </td></tr>\n",
       "\t<tr><td>Africa                          </td><td>Congo                           </td></tr>\n",
       "\t<tr><td>Africa                          </td><td>Democratic Republic of the Congo</td></tr>\n",
       "\t<tr><td>Africa                          </td><td>Equatorial Guinea               </td></tr>\n",
       "\t<tr><td>Africa                          </td><td>Gabon                           </td></tr>\n",
       "\t<tr><td>Africa                          </td><td>Sao Tome and Principe           </td></tr>\n",
       "\t<tr><td>Africa                          </td><td>Algeria                         </td></tr>\n",
       "\t<tr><td>...</td><td>...</td></tr>\n",
       "\t<tr><td>South America                     </td><td>Paraguay                          </td></tr>\n",
       "\t<tr><td>South America                     </td><td>Peru                              </td></tr>\n",
       "\t<tr><td>South America                     </td><td>Suriname                          </td></tr>\n",
       "\t<tr><td>South America                     </td><td>Uruguay                           </td></tr>\n",
       "\t<tr><td>South America                     </td><td>Venezuela (Bolivarian Republic of)</td></tr>\n",
       "\t<tr><td>Oceania                           </td><td>Australia                         </td></tr>\n",
       "\t<tr><td>Oceania                           </td><td>New Zealand                       </td></tr>\n",
       "\t<tr><td>Oceania                           </td><td>Norfolk Island                    </td></tr>\n",
       "\t<tr><td>Oceania                           </td><td>Fiji                              </td></tr>\n",
       "\t<tr><td>Oceania                           </td><td>New Caledonia                     </td></tr>\n",
       "\t<tr><td>Oceania                           </td><td>Papua New Guinea                  </td></tr>\n",
       "\t<tr><td>Oceania                           </td><td>Solomon Islands                   </td></tr>\n",
       "\t<tr><td>Oceania                           </td><td>Vanuatu                           </td></tr>\n",
       "\t<tr><td>Oceania                           </td><td>Guam                              </td></tr>\n",
       "\t<tr><td>Oceania                           </td><td>Kiribati                          </td></tr>\n",
       "\t<tr><td>Oceania                           </td><td>Marshall Islands                  </td></tr>\n",
       "\t<tr><td>Oceania                           </td><td>Micronesia (Federated States of)  </td></tr>\n",
       "\t<tr><td>Oceania                           </td><td>Nauru                             </td></tr>\n",
       "\t<tr><td>Oceania                           </td><td>Northern Mariana Islands          </td></tr>\n",
       "\t<tr><td>Oceania                           </td><td>Palau                             </td></tr>\n",
       "\t<tr><td>Oceania                           </td><td>American Samoa                    </td></tr>\n",
       "\t<tr><td>Oceania                           </td><td>Cook Islands                      </td></tr>\n",
       "\t<tr><td>Oceania                           </td><td>French Polynesia                  </td></tr>\n",
       "\t<tr><td>Oceania                           </td><td>Niue                              </td></tr>\n",
       "\t<tr><td>Oceania                           </td><td>Pitcairn                          </td></tr>\n",
       "\t<tr><td>Oceania                           </td><td>Samoa                             </td></tr>\n",
       "\t<tr><td>Oceania                           </td><td>Tokelau                           </td></tr>\n",
       "\t<tr><td>Oceania                           </td><td>Tonga                             </td></tr>\n",
       "\t<tr><td>Oceania                           </td><td>Tuvalu                            </td></tr>\n",
       "\t<tr><td>Oceania                           </td><td>Wallis and Futuna Islands         </td></tr>\n",
       "</tbody>\n",
       "</table>\n"
      ],
      "text/latex": [
       "\\begin{tabular}{r|ll}\n",
       " Continent & Country\\\\\n",
       "\\hline\n",
       "\t Africa                           & Burundi                         \\\\\n",
       "\t Africa                           & Comoros                         \\\\\n",
       "\t Africa                           & Djibouti                        \\\\\n",
       "\t Africa                           & Eritrea                         \\\\\n",
       "\t Africa                           & Ethiopia                        \\\\\n",
       "\t Africa                           & Kenya                           \\\\\n",
       "\t Africa                           & Madagascar                      \\\\\n",
       "\t Africa                           & Malawi                          \\\\\n",
       "\t Africa                           & Mauritius                       \\\\\n",
       "\t Africa                           & Mayotte                         \\\\\n",
       "\t Africa                           & Mozambique                      \\\\\n",
       "\t Africa                           & Réunion                         \\\\\n",
       "\t Africa                           & Rwanda                          \\\\\n",
       "\t Africa                           & Seychelles                      \\\\\n",
       "\t Africa                           & Somalia                         \\\\\n",
       "\t Africa                           & South Sudan                     \\\\\n",
       "\t Africa                           & Uganda                          \\\\\n",
       "\t Africa                           & United Republic of Tanzania     \\\\\n",
       "\t Africa                           & Zambia                          \\\\\n",
       "\t Africa                           & Zimbabwe                        \\\\\n",
       "\t Africa                           & Angola                          \\\\\n",
       "\t Africa                           & Cameroon                        \\\\\n",
       "\t Africa                           & Central African Republic        \\\\\n",
       "\t Africa                           & Chad                            \\\\\n",
       "\t Africa                           & Congo                           \\\\\n",
       "\t Africa                           & Democratic Republic of the Congo\\\\\n",
       "\t Africa                           & Equatorial Guinea               \\\\\n",
       "\t Africa                           & Gabon                           \\\\\n",
       "\t Africa                           & Sao Tome and Principe           \\\\\n",
       "\t Africa                           & Algeria                         \\\\\n",
       "\t ... & ...\\\\\n",
       "\t South America                      & Paraguay                          \\\\\n",
       "\t South America                      & Peru                              \\\\\n",
       "\t South America                      & Suriname                          \\\\\n",
       "\t South America                      & Uruguay                           \\\\\n",
       "\t South America                      & Venezuela (Bolivarian Republic of)\\\\\n",
       "\t Oceania                            & Australia                         \\\\\n",
       "\t Oceania                            & New Zealand                       \\\\\n",
       "\t Oceania                            & Norfolk Island                    \\\\\n",
       "\t Oceania                            & Fiji                              \\\\\n",
       "\t Oceania                            & New Caledonia                     \\\\\n",
       "\t Oceania                            & Papua New Guinea                  \\\\\n",
       "\t Oceania                            & Solomon Islands                   \\\\\n",
       "\t Oceania                            & Vanuatu                           \\\\\n",
       "\t Oceania                            & Guam                              \\\\\n",
       "\t Oceania                            & Kiribati                          \\\\\n",
       "\t Oceania                            & Marshall Islands                  \\\\\n",
       "\t Oceania                            & Micronesia (Federated States of)  \\\\\n",
       "\t Oceania                            & Nauru                             \\\\\n",
       "\t Oceania                            & Northern Mariana Islands          \\\\\n",
       "\t Oceania                            & Palau                             \\\\\n",
       "\t Oceania                            & American Samoa                    \\\\\n",
       "\t Oceania                            & Cook Islands                      \\\\\n",
       "\t Oceania                            & French Polynesia                  \\\\\n",
       "\t Oceania                            & Niue                              \\\\\n",
       "\t Oceania                            & Pitcairn                          \\\\\n",
       "\t Oceania                            & Samoa                             \\\\\n",
       "\t Oceania                            & Tokelau                           \\\\\n",
       "\t Oceania                            & Tonga                             \\\\\n",
       "\t Oceania                            & Tuvalu                            \\\\\n",
       "\t Oceania                            & Wallis and Futuna Islands         \\\\\n",
       "\\end{tabular}\n"
      ],
      "text/markdown": [
       "\n",
       "Continent | Country | \n",
       "|---|---|---|---|---|---|---|---|---|---|---|---|---|---|---|---|---|---|---|---|---|---|---|---|---|---|---|---|---|---|---|---|---|---|---|---|---|---|---|---|---|---|---|---|---|---|---|---|---|---|---|---|---|---|---|---|---|---|---|---|---|\n",
       "| Africa                           | Burundi                          | \n",
       "| Africa                           | Comoros                          | \n",
       "| Africa                           | Djibouti                         | \n",
       "| Africa                           | Eritrea                          | \n",
       "| Africa                           | Ethiopia                         | \n",
       "| Africa                           | Kenya                            | \n",
       "| Africa                           | Madagascar                       | \n",
       "| Africa                           | Malawi                           | \n",
       "| Africa                           | Mauritius                        | \n",
       "| Africa                           | Mayotte                          | \n",
       "| Africa                           | Mozambique                       | \n",
       "| Africa                           | Réunion                          | \n",
       "| Africa                           | Rwanda                           | \n",
       "| Africa                           | Seychelles                       | \n",
       "| Africa                           | Somalia                          | \n",
       "| Africa                           | South Sudan                      | \n",
       "| Africa                           | Uganda                           | \n",
       "| Africa                           | United Republic of Tanzania      | \n",
       "| Africa                           | Zambia                           | \n",
       "| Africa                           | Zimbabwe                         | \n",
       "| Africa                           | Angola                           | \n",
       "| Africa                           | Cameroon                         | \n",
       "| Africa                           | Central African Republic         | \n",
       "| Africa                           | Chad                             | \n",
       "| Africa                           | Congo                            | \n",
       "| Africa                           | Democratic Republic of the Congo | \n",
       "| Africa                           | Equatorial Guinea                | \n",
       "| Africa                           | Gabon                            | \n",
       "| Africa                           | Sao Tome and Principe            | \n",
       "| Africa                           | Algeria                          | \n",
       "| ... | ... | \n",
       "| South America                      | Paraguay                           | \n",
       "| South America                      | Peru                               | \n",
       "| South America                      | Suriname                           | \n",
       "| South America                      | Uruguay                            | \n",
       "| South America                      | Venezuela (Bolivarian Republic of) | \n",
       "| Oceania                            | Australia                          | \n",
       "| Oceania                            | New Zealand                        | \n",
       "| Oceania                            | Norfolk Island                     | \n",
       "| Oceania                            | Fiji                               | \n",
       "| Oceania                            | New Caledonia                      | \n",
       "| Oceania                            | Papua New Guinea                   | \n",
       "| Oceania                            | Solomon Islands                    | \n",
       "| Oceania                            | Vanuatu                            | \n",
       "| Oceania                            | Guam                               | \n",
       "| Oceania                            | Kiribati                           | \n",
       "| Oceania                            | Marshall Islands                   | \n",
       "| Oceania                            | Micronesia (Federated States of)   | \n",
       "| Oceania                            | Nauru                              | \n",
       "| Oceania                            | Northern Mariana Islands           | \n",
       "| Oceania                            | Palau                              | \n",
       "| Oceania                            | American Samoa                     | \n",
       "| Oceania                            | Cook Islands                       | \n",
       "| Oceania                            | French Polynesia                   | \n",
       "| Oceania                            | Niue                               | \n",
       "| Oceania                            | Pitcairn                           | \n",
       "| Oceania                            | Samoa                              | \n",
       "| Oceania                            | Tokelau                            | \n",
       "| Oceania                            | Tonga                              | \n",
       "| Oceania                            | Tuvalu                             | \n",
       "| Oceania                            | Wallis and Futuna Islands          | \n",
       "\n",
       "\n"
      ],
      "text/plain": [
       "    Continent     Country                           \n",
       "1   Africa        Burundi                           \n",
       "2   Africa        Comoros                           \n",
       "3   Africa        Djibouti                          \n",
       "4   Africa        Eritrea                           \n",
       "5   Africa        Ethiopia                          \n",
       "6   Africa        Kenya                             \n",
       "7   Africa        Madagascar                        \n",
       "8   Africa        Malawi                            \n",
       "9   Africa        Mauritius                         \n",
       "10  Africa        Mayotte                           \n",
       "11  Africa        Mozambique                        \n",
       "12  Africa        Réunion                           \n",
       "13  Africa        Rwanda                            \n",
       "14  Africa        Seychelles                        \n",
       "15  Africa        Somalia                           \n",
       "16  Africa        South Sudan                       \n",
       "17  Africa        Uganda                            \n",
       "18  Africa        United Republic of Tanzania       \n",
       "19  Africa        Zambia                            \n",
       "20  Africa        Zimbabwe                          \n",
       "21  Africa        Angola                            \n",
       "22  Africa        Cameroon                          \n",
       "23  Africa        Central African Republic          \n",
       "24  Africa        Chad                              \n",
       "25  Africa        Congo                             \n",
       "26  Africa        Democratic Republic of the Congo  \n",
       "27  Africa        Equatorial Guinea                 \n",
       "28  Africa        Gabon                             \n",
       "29  Africa        Sao Tome and Principe             \n",
       "30  Africa        Algeria                           \n",
       "... ...           ...                               \n",
       "212 South America Paraguay                          \n",
       "213 South America Peru                              \n",
       "214 South America Suriname                          \n",
       "215 South America Uruguay                           \n",
       "216 South America Venezuela (Bolivarian Republic of)\n",
       "217 Oceania       Australia                         \n",
       "218 Oceania       New Zealand                       \n",
       "219 Oceania       Norfolk Island                    \n",
       "220 Oceania       Fiji                              \n",
       "221 Oceania       New Caledonia                     \n",
       "222 Oceania       Papua New Guinea                  \n",
       "223 Oceania       Solomon Islands                   \n",
       "224 Oceania       Vanuatu                           \n",
       "225 Oceania       Guam                              \n",
       "226 Oceania       Kiribati                          \n",
       "227 Oceania       Marshall Islands                  \n",
       "228 Oceania       Micronesia (Federated States of)  \n",
       "229 Oceania       Nauru                             \n",
       "230 Oceania       Northern Mariana Islands          \n",
       "231 Oceania       Palau                             \n",
       "232 Oceania       American Samoa                    \n",
       "233 Oceania       Cook Islands                      \n",
       "234 Oceania       French Polynesia                  \n",
       "235 Oceania       Niue                              \n",
       "236 Oceania       Pitcairn                          \n",
       "237 Oceania       Samoa                             \n",
       "238 Oceania       Tokelau                           \n",
       "239 Oceania       Tonga                             \n",
       "240 Oceania       Tuvalu                            \n",
       "241 Oceania       Wallis and Futuna Islands         "
      ]
     },
     "metadata": {},
     "output_type": "display_data"
    }
   ],
   "source": [
    "countries_df = data.frame(Continent=character(1), Country=character(1), stringsAsFactors=F)\n",
    "\n",
    "for (i in 1:(length(continents))) {\n",
    "    continent = (continents[i]\n",
    "        %>% html_nodes(\"caption\") \n",
    "        %>% html_text \n",
    "        %>% strsplit(\" [(]\") \n",
    "        %>% `[[`(1) \n",
    "        %>% `[[`(1)\n",
    "    )\n",
    "    \n",
    "    countries_nodes = continents[i] %>% html_nodes('.name')\n",
    "    countries_nodes = countries_nodes[c(T, F)]\n",
    "    for (j in 1:(length(countries_nodes))) {\n",
    "        country = countries_nodes[j] %>% html_text\n",
    "        countries_df = rbind(countries_df, c(continent, country))\n",
    "    }\n",
    "}\n",
    "\n",
    "countries_df = countries_df[-1,]\n",
    "rownames(countries_df) = NULL\n",
    "countries_df"
   ]
  },
  {
   "cell_type": "markdown",
   "metadata": {},
   "source": [
    "# Q3.\n",
    "\n",
    "The file “MovieData.csv” lists financial data on movies released since 1980 with budgets of at least $20 million."
   ]
  },
  {
   "cell_type": "code",
   "execution_count": 15,
   "metadata": {},
   "outputs": [
    {
     "data": {
      "text/html": [
       "<table>\n",
       "<thead><tr><th scope=col>Movie</th><th scope=col>Distributor</th><th scope=col>Budget</th><th scope=col>US.Gross</th><th scope=col>Worldwide.Gross</th><th scope=col>Release.Date</th></tr></thead>\n",
       "<tbody>\n",
       "\t<tr><td>Pirates of the Caribbean: At World's End </td><td>Buena Vista                              </td><td>$300,000,000                             </td><td>$309,420,425                             </td><td>$960,996,492                             </td><td>25/5/2007                                </td></tr>\n",
       "\t<tr><td>Spider-Man 3                             </td><td>Sony                                     </td><td>$258,000,000                             </td><td>$336,530,303                             </td><td>$890,871,626                             </td><td>4/5/2007                                 </td></tr>\n",
       "\t<tr><td>Harry Potter and the Half-Blood Prince   </td><td>Warner Bros.                             </td><td>$250,000,000                             </td><td>$301,959,197                             </td><td>$937,499,905                             </td><td>15/7/2009                                </td></tr>\n",
       "\t<tr><td>Avatar                                   </td><td>20th Century Fox                         </td><td>$237,000,000                             </td><td>$601,141,551                             </td><td>$2,046,141,551                           </td><td>18/12/2009                               </td></tr>\n",
       "\t<tr><td>Superman Returns                         </td><td>Warner Bros.                             </td><td>$232,000,000                             </td><td>$200,120,000                             </td><td>$391,120,000                             </td><td>28/6/2006                                </td></tr>\n",
       "\t<tr><td>Quantum of Solace                        </td><td>Sony Pictures                            </td><td>$230,000,000                             </td><td>$169,368,427                             </td><td>$576,368,427                             </td><td>14/11/2008                               </td></tr>\n",
       "</tbody>\n",
       "</table>\n"
      ],
      "text/latex": [
       "\\begin{tabular}{r|llllll}\n",
       " Movie & Distributor & Budget & US.Gross & Worldwide.Gross & Release.Date\\\\\n",
       "\\hline\n",
       "\t Pirates of the Caribbean: At World's End  & Buena Vista                               & \\$300,000,000                            & \\$309,420,425                            & \\$960,996,492                            & 25/5/2007                                \\\\\n",
       "\t Spider-Man 3                              & Sony                                      & \\$258,000,000                            & \\$336,530,303                            & \\$890,871,626                            & 4/5/2007                                 \\\\\n",
       "\t Harry Potter and the Half-Blood Prince    & Warner Bros.                              & \\$250,000,000                            & \\$301,959,197                            & \\$937,499,905                            & 15/7/2009                                \\\\\n",
       "\t Avatar                                    & 20th Century Fox                          & \\$237,000,000                            & \\$601,141,551                            & \\$2,046,141,551                          & 18/12/2009                               \\\\\n",
       "\t Superman Returns                          & Warner Bros.                              & \\$232,000,000                            & \\$200,120,000                            & \\$391,120,000                            & 28/6/2006                                \\\\\n",
       "\t Quantum of Solace                         & Sony Pictures                             & \\$230,000,000                            & \\$169,368,427                            & \\$576,368,427                            & 14/11/2008                               \\\\\n",
       "\\end{tabular}\n"
      ],
      "text/markdown": [
       "\n",
       "Movie | Distributor | Budget | US.Gross | Worldwide.Gross | Release.Date | \n",
       "|---|---|---|---|---|---|\n",
       "| Pirates of the Caribbean: At World's End  | Buena Vista                               | $300,000,000                              | $309,420,425                              | $960,996,492                              | 25/5/2007                                 | \n",
       "| Spider-Man 3                              | Sony                                      | $258,000,000                              | $336,530,303                              | $890,871,626                              | 4/5/2007                                  | \n",
       "| Harry Potter and the Half-Blood Prince    | Warner Bros.                              | $250,000,000                              | $301,959,197                              | $937,499,905                              | 15/7/2009                                 | \n",
       "| Avatar                                    | 20th Century Fox                          | $237,000,000                              | $601,141,551                              | $2,046,141,551                            | 18/12/2009                                | \n",
       "| Superman Returns                          | Warner Bros.                              | $232,000,000                              | $200,120,000                              | $391,120,000                              | 28/6/2006                                 | \n",
       "| Quantum of Solace                         | Sony Pictures                             | $230,000,000                              | $169,368,427                              | $576,368,427                              | 14/11/2008                                | \n",
       "\n",
       "\n"
      ],
      "text/plain": [
       "  Movie                                     Distributor      Budget       \n",
       "1 Pirates of the Caribbean: At World's End  Buena Vista      $300,000,000 \n",
       "2 Spider-Man 3                              Sony             $258,000,000 \n",
       "3 Harry Potter and the Half-Blood Prince    Warner Bros.     $250,000,000 \n",
       "4 Avatar                                    20th Century Fox $237,000,000 \n",
       "5 Superman Returns                          Warner Bros.     $232,000,000 \n",
       "6 Quantum of Solace                         Sony Pictures    $230,000,000 \n",
       "  US.Gross      Worldwide.Gross Release.Date\n",
       "1 $309,420,425  $960,996,492    25/5/2007   \n",
       "2 $336,530,303  $890,871,626    4/5/2007    \n",
       "3 $301,959,197  $937,499,905    15/7/2009   \n",
       "4 $601,141,551  $2,046,141,551  18/12/2009  \n",
       "5 $200,120,000  $391,120,000    28/6/2006   \n",
       "6 $169,368,427  $576,368,427    14/11/2008  "
      ]
     },
     "metadata": {},
     "output_type": "display_data"
    }
   ],
   "source": [
    "movie = read.csv('MovieData.csv', stringsAsFactors=F)\n",
    "movie %>% head"
   ]
  },
  {
   "cell_type": "code",
   "execution_count": 16,
   "metadata": {
    "collapsed": true
   },
   "outputs": [
    {
     "name": "stderr",
     "output_type": "stream",
     "text": [
      "Warning message in eval(expr, envir, enclos):\n",
      "“NAs introduced by coercion”Warning message in eval(expr, envir, enclos):\n",
      "“NAs introduced by coercion”"
     ]
    }
   ],
   "source": [
    "movie$US.Gross <- as.numeric(gsub(\"\\\\,\", \"\", gsub(\"\\\\$\", \"\", movie$US.Gross)))\n",
    "movie$Budget <- as.numeric(gsub(\"\\\\,\", \"\", gsub(\"\\\\$\", \"\", movie$Budget)))\n",
    "movie$Worldwide.Gross <- as.numeric(gsub(\"\\\\,\", \"\", gsub(\"\\\\$\", \"\", movie$Worldwide.Gross)))"
   ]
  },
  {
   "cell_type": "markdown",
   "metadata": {},
   "source": [
    "Create three new variables, Ratio1, Ratio2, and Decade. Ratio1 should be US Gross divided by Budget, and Ratio2 should be Worldwide Gross divided by Budget, and Decade should list 1980s, 1990s, or 2000s, depending on the year of the release date."
   ]
  },
  {
   "cell_type": "code",
   "execution_count": 17,
   "metadata": {},
   "outputs": [],
   "source": [
    "getDecade = function(x) {\n",
    "    dec = substr(x, nchar(x)-1, nchar(x)-1)\n",
    "    if (dec == '0') {\n",
    "        return('2000s')\n",
    "    } else if (dec == '9') {\n",
    "        return('1990s')\n",
    "    } else {\n",
    "        return('1980s')\n",
    "    }\n",
    "}"
   ]
  },
  {
   "cell_type": "code",
   "execution_count": 18,
   "metadata": {},
   "outputs": [
    {
     "data": {
      "text/html": [
       "<table>\n",
       "<thead><tr><th scope=col>Movie</th><th scope=col>Distributor</th><th scope=col>Budget</th><th scope=col>US.Gross</th><th scope=col>Worldwide.Gross</th><th scope=col>Release.Date</th><th scope=col>Ratio1</th><th scope=col>Ratio2</th><th scope=col>Decade</th></tr></thead>\n",
       "<tbody>\n",
       "\t<tr><td>Pirates of the Caribbean: At World's End </td><td>Buena Vista                              </td><td>3.00e+08                                 </td><td>309420425                                </td><td> 960996492                               </td><td>25/5/2007                                </td><td>1.0314014                                </td><td>3.203322                                 </td><td>2000s                                    </td></tr>\n",
       "\t<tr><td>Spider-Man 3                             </td><td>Sony                                     </td><td>2.58e+08                                 </td><td>336530303                                </td><td> 890871626                               </td><td>4/5/2007                                 </td><td>1.3043810                                </td><td>3.452991                                 </td><td>2000s                                    </td></tr>\n",
       "\t<tr><td>Harry Potter and the Half-Blood Prince   </td><td>Warner Bros.                             </td><td>2.50e+08                                 </td><td>301959197                                </td><td> 937499905                               </td><td>15/7/2009                                </td><td>1.2078368                                </td><td>3.750000                                 </td><td>2000s                                    </td></tr>\n",
       "\t<tr><td>Avatar                                   </td><td>20th Century Fox                         </td><td>2.37e+08                                 </td><td>601141551                                </td><td>2046141551                               </td><td>18/12/2009                               </td><td>2.5364622                                </td><td>8.633509                                 </td><td>2000s                                    </td></tr>\n",
       "\t<tr><td>Superman Returns                         </td><td>Warner Bros.                             </td><td>2.32e+08                                 </td><td>200120000                                </td><td> 391120000                               </td><td>28/6/2006                                </td><td>0.8625862                                </td><td>1.685862                                 </td><td>2000s                                    </td></tr>\n",
       "\t<tr><td>Quantum of Solace                        </td><td>Sony Pictures                            </td><td>2.30e+08                                 </td><td>169368427                                </td><td> 576368427                               </td><td>14/11/2008                               </td><td>0.7363845                                </td><td>2.505950                                 </td><td>2000s                                    </td></tr>\n",
       "</tbody>\n",
       "</table>\n"
      ],
      "text/latex": [
       "\\begin{tabular}{r|lllllllll}\n",
       " Movie & Distributor & Budget & US.Gross & Worldwide.Gross & Release.Date & Ratio1 & Ratio2 & Decade\\\\\n",
       "\\hline\n",
       "\t Pirates of the Caribbean: At World's End  & Buena Vista                               & 3.00e+08                                  & 309420425                                 &  960996492                                & 25/5/2007                                 & 1.0314014                                 & 3.203322                                  & 2000s                                    \\\\\n",
       "\t Spider-Man 3                              & Sony                                      & 2.58e+08                                  & 336530303                                 &  890871626                                & 4/5/2007                                  & 1.3043810                                 & 3.452991                                  & 2000s                                    \\\\\n",
       "\t Harry Potter and the Half-Blood Prince    & Warner Bros.                              & 2.50e+08                                  & 301959197                                 &  937499905                                & 15/7/2009                                 & 1.2078368                                 & 3.750000                                  & 2000s                                    \\\\\n",
       "\t Avatar                                    & 20th Century Fox                          & 2.37e+08                                  & 601141551                                 & 2046141551                                & 18/12/2009                                & 2.5364622                                 & 8.633509                                  & 2000s                                    \\\\\n",
       "\t Superman Returns                          & Warner Bros.                              & 2.32e+08                                  & 200120000                                 &  391120000                                & 28/6/2006                                 & 0.8625862                                 & 1.685862                                  & 2000s                                    \\\\\n",
       "\t Quantum of Solace                         & Sony Pictures                             & 2.30e+08                                  & 169368427                                 &  576368427                                & 14/11/2008                                & 0.7363845                                 & 2.505950                                  & 2000s                                    \\\\\n",
       "\\end{tabular}\n"
      ],
      "text/markdown": [
       "\n",
       "Movie | Distributor | Budget | US.Gross | Worldwide.Gross | Release.Date | Ratio1 | Ratio2 | Decade | \n",
       "|---|---|---|---|---|---|\n",
       "| Pirates of the Caribbean: At World's End  | Buena Vista                               | 3.00e+08                                  | 309420425                                 |  960996492                                | 25/5/2007                                 | 1.0314014                                 | 3.203322                                  | 2000s                                     | \n",
       "| Spider-Man 3                              | Sony                                      | 2.58e+08                                  | 336530303                                 |  890871626                                | 4/5/2007                                  | 1.3043810                                 | 3.452991                                  | 2000s                                     | \n",
       "| Harry Potter and the Half-Blood Prince    | Warner Bros.                              | 2.50e+08                                  | 301959197                                 |  937499905                                | 15/7/2009                                 | 1.2078368                                 | 3.750000                                  | 2000s                                     | \n",
       "| Avatar                                    | 20th Century Fox                          | 2.37e+08                                  | 601141551                                 | 2046141551                                | 18/12/2009                                | 2.5364622                                 | 8.633509                                  | 2000s                                     | \n",
       "| Superman Returns                          | Warner Bros.                              | 2.32e+08                                  | 200120000                                 |  391120000                                | 28/6/2006                                 | 0.8625862                                 | 1.685862                                  | 2000s                                     | \n",
       "| Quantum of Solace                         | Sony Pictures                             | 2.30e+08                                  | 169368427                                 |  576368427                                | 14/11/2008                                | 0.7363845                                 | 2.505950                                  | 2000s                                     | \n",
       "\n",
       "\n"
      ],
      "text/plain": [
       "  Movie                                     Distributor      Budget   US.Gross \n",
       "1 Pirates of the Caribbean: At World's End  Buena Vista      3.00e+08 309420425\n",
       "2 Spider-Man 3                              Sony             2.58e+08 336530303\n",
       "3 Harry Potter and the Half-Blood Prince    Warner Bros.     2.50e+08 301959197\n",
       "4 Avatar                                    20th Century Fox 2.37e+08 601141551\n",
       "5 Superman Returns                          Warner Bros.     2.32e+08 200120000\n",
       "6 Quantum of Solace                         Sony Pictures    2.30e+08 169368427\n",
       "  Worldwide.Gross Release.Date Ratio1    Ratio2   Decade\n",
       "1  960996492      25/5/2007    1.0314014 3.203322 2000s \n",
       "2  890871626      4/5/2007     1.3043810 3.452991 2000s \n",
       "3  937499905      15/7/2009    1.2078368 3.750000 2000s \n",
       "4 2046141551      18/12/2009   2.5364622 8.633509 2000s \n",
       "5  391120000      28/6/2006    0.8625862 1.685862 2000s \n",
       "6  576368427      14/11/2008   0.7363845 2.505950 2000s "
      ]
     },
     "metadata": {},
     "output_type": "display_data"
    }
   ],
   "source": [
    "movie$Ratio1 = movie$US.Gross/movie$Budget\n",
    "movie$Ratio2 = movie$Worldwide.Gross/movie$Budget\n",
    "movie$Decade = movie$Release.Date %>% lapply(getDecade)\n",
    "movie %>% head"
   ]
  },
  {
   "cell_type": "markdown",
   "metadata": {},
   "source": [
    "Find counts of movies by various distributors. Then create one more column, Distributor.New, which lists the distributor for distributors with at least 30 movies and lists Other for the rest."
   ]
  },
  {
   "cell_type": "code",
   "execution_count": 19,
   "metadata": {
    "scrolled": true
   },
   "outputs": [],
   "source": [
    "distributor_count = movie$Distributor %>% table"
   ]
  },
  {
   "cell_type": "code",
   "execution_count": 20,
   "metadata": {},
   "outputs": [],
   "source": [
    "list_distri_30 = function(x) {\n",
    "    if (x == '') {\n",
    "        return('Other')\n",
    "    } else if (distributor_count[x] >= 30) {\n",
    "        return(x)\n",
    "    } else {\n",
    "        return('Other')\n",
    "    }\n",
    "}"
   ]
  },
  {
   "cell_type": "code",
   "execution_count": 21,
   "metadata": {},
   "outputs": [
    {
     "data": {
      "text/html": [
       "<table>\n",
       "<thead><tr><th scope=col>Movie</th><th scope=col>Distributor</th><th scope=col>Budget</th><th scope=col>US.Gross</th><th scope=col>Worldwide.Gross</th><th scope=col>Release.Date</th><th scope=col>Ratio1</th><th scope=col>Ratio2</th><th scope=col>Decade</th><th scope=col>Distributor.New</th></tr></thead>\n",
       "<tbody>\n",
       "\t<tr><td>Pirates of the Caribbean: At World's End </td><td>Buena Vista                              </td><td>3.00e+08                                 </td><td>309420425                                </td><td> 960996492                               </td><td>25/5/2007                                </td><td>1.0314014                                </td><td>3.203322                                 </td><td>2000s                                    </td><td>Buena Vista                              </td></tr>\n",
       "\t<tr><td>Spider-Man 3                             </td><td>Sony                                     </td><td>2.58e+08                                 </td><td>336530303                                </td><td> 890871626                               </td><td>4/5/2007                                 </td><td>1.3043810                                </td><td>3.452991                                 </td><td>2000s                                    </td><td>Sony                                     </td></tr>\n",
       "\t<tr><td>Harry Potter and the Half-Blood Prince   </td><td>Warner Bros.                             </td><td>2.50e+08                                 </td><td>301959197                                </td><td> 937499905                               </td><td>15/7/2009                                </td><td>1.2078368                                </td><td>3.750000                                 </td><td>2000s                                    </td><td>Warner Bros.                             </td></tr>\n",
       "\t<tr><td>Avatar                                   </td><td>20th Century Fox                         </td><td>2.37e+08                                 </td><td>601141551                                </td><td>2046141551                               </td><td>18/12/2009                               </td><td>2.5364622                                </td><td>8.633509                                 </td><td>2000s                                    </td><td>20th Century Fox                         </td></tr>\n",
       "\t<tr><td>Superman Returns                         </td><td>Warner Bros.                             </td><td>2.32e+08                                 </td><td>200120000                                </td><td> 391120000                               </td><td>28/6/2006                                </td><td>0.8625862                                </td><td>1.685862                                 </td><td>2000s                                    </td><td>Warner Bros.                             </td></tr>\n",
       "\t<tr><td>Quantum of Solace                        </td><td>Sony Pictures                            </td><td>2.30e+08                                 </td><td>169368427                                </td><td> 576368427                               </td><td>14/11/2008                               </td><td>0.7363845                                </td><td>2.505950                                 </td><td>2000s                                    </td><td>Other                                    </td></tr>\n",
       "</tbody>\n",
       "</table>\n"
      ],
      "text/latex": [
       "\\begin{tabular}{r|llllllllll}\n",
       " Movie & Distributor & Budget & US.Gross & Worldwide.Gross & Release.Date & Ratio1 & Ratio2 & Decade & Distributor.New\\\\\n",
       "\\hline\n",
       "\t Pirates of the Caribbean: At World's End  & Buena Vista                               & 3.00e+08                                  & 309420425                                 &  960996492                                & 25/5/2007                                 & 1.0314014                                 & 3.203322                                  & 2000s                                     & Buena Vista                              \\\\\n",
       "\t Spider-Man 3                              & Sony                                      & 2.58e+08                                  & 336530303                                 &  890871626                                & 4/5/2007                                  & 1.3043810                                 & 3.452991                                  & 2000s                                     & Sony                                     \\\\\n",
       "\t Harry Potter and the Half-Blood Prince    & Warner Bros.                              & 2.50e+08                                  & 301959197                                 &  937499905                                & 15/7/2009                                 & 1.2078368                                 & 3.750000                                  & 2000s                                     & Warner Bros.                             \\\\\n",
       "\t Avatar                                    & 20th Century Fox                          & 2.37e+08                                  & 601141551                                 & 2046141551                                & 18/12/2009                                & 2.5364622                                 & 8.633509                                  & 2000s                                     & 20th Century Fox                         \\\\\n",
       "\t Superman Returns                          & Warner Bros.                              & 2.32e+08                                  & 200120000                                 &  391120000                                & 28/6/2006                                 & 0.8625862                                 & 1.685862                                  & 2000s                                     & Warner Bros.                             \\\\\n",
       "\t Quantum of Solace                         & Sony Pictures                             & 2.30e+08                                  & 169368427                                 &  576368427                                & 14/11/2008                                & 0.7363845                                 & 2.505950                                  & 2000s                                     & Other                                    \\\\\n",
       "\\end{tabular}\n"
      ],
      "text/markdown": [
       "\n",
       "Movie | Distributor | Budget | US.Gross | Worldwide.Gross | Release.Date | Ratio1 | Ratio2 | Decade | Distributor.New | \n",
       "|---|---|---|---|---|---|\n",
       "| Pirates of the Caribbean: At World's End  | Buena Vista                               | 3.00e+08                                  | 309420425                                 |  960996492                                | 25/5/2007                                 | 1.0314014                                 | 3.203322                                  | 2000s                                     | Buena Vista                               | \n",
       "| Spider-Man 3                              | Sony                                      | 2.58e+08                                  | 336530303                                 |  890871626                                | 4/5/2007                                  | 1.3043810                                 | 3.452991                                  | 2000s                                     | Sony                                      | \n",
       "| Harry Potter and the Half-Blood Prince    | Warner Bros.                              | 2.50e+08                                  | 301959197                                 |  937499905                                | 15/7/2009                                 | 1.2078368                                 | 3.750000                                  | 2000s                                     | Warner Bros.                              | \n",
       "| Avatar                                    | 20th Century Fox                          | 2.37e+08                                  | 601141551                                 | 2046141551                                | 18/12/2009                                | 2.5364622                                 | 8.633509                                  | 2000s                                     | 20th Century Fox                          | \n",
       "| Superman Returns                          | Warner Bros.                              | 2.32e+08                                  | 200120000                                 |  391120000                                | 28/6/2006                                 | 0.8625862                                 | 1.685862                                  | 2000s                                     | Warner Bros.                              | \n",
       "| Quantum of Solace                         | Sony Pictures                             | 2.30e+08                                  | 169368427                                 |  576368427                                | 14/11/2008                                | 0.7363845                                 | 2.505950                                  | 2000s                                     | Other                                     | \n",
       "\n",
       "\n"
      ],
      "text/plain": [
       "  Movie                                     Distributor      Budget   US.Gross \n",
       "1 Pirates of the Caribbean: At World's End  Buena Vista      3.00e+08 309420425\n",
       "2 Spider-Man 3                              Sony             2.58e+08 336530303\n",
       "3 Harry Potter and the Half-Blood Prince    Warner Bros.     2.50e+08 301959197\n",
       "4 Avatar                                    20th Century Fox 2.37e+08 601141551\n",
       "5 Superman Returns                          Warner Bros.     2.32e+08 200120000\n",
       "6 Quantum of Solace                         Sony Pictures    2.30e+08 169368427\n",
       "  Worldwide.Gross Release.Date Ratio1    Ratio2   Decade Distributor.New \n",
       "1  960996492      25/5/2007    1.0314014 3.203322 2000s  Buena Vista     \n",
       "2  890871626      4/5/2007     1.3043810 3.452991 2000s  Sony            \n",
       "3  937499905      15/7/2009    1.2078368 3.750000 2000s  Warner Bros.    \n",
       "4 2046141551      18/12/2009   2.5364622 8.633509 2000s  20th Century Fox\n",
       "5  391120000      28/6/2006    0.8625862 1.685862 2000s  Warner Bros.    \n",
       "6  576368427      14/11/2008   0.7363845 2.505950 2000s  Other           "
      ]
     },
     "metadata": {},
     "output_type": "display_data"
    }
   ],
   "source": [
    "movie$Distributor.New = movie$Distributor %>% lapply(list_distri_30)\n",
    "movie %>% head"
   ]
  },
  {
   "cell_type": "markdown",
   "metadata": {},
   "source": [
    "Show average and standard deviation of Ratio1, broken down by\n",
    "Distributor.New and Decade. Comment on it."
   ]
  },
  {
   "cell_type": "code",
   "execution_count": 22,
   "metadata": {},
   "outputs": [
    {
     "data": {
      "text/html": [
       "<table>\n",
       "<thead><tr><th scope=col>Movie</th><th scope=col>Distributor</th><th scope=col>Budget</th><th scope=col>US.Gross</th><th scope=col>Worldwide.Gross</th><th scope=col>Release.Date</th><th scope=col>Ratio1</th><th scope=col>Ratio2</th><th scope=col>Decade</th><th scope=col>Distributor.New</th></tr></thead>\n",
       "<tbody>\n",
       "\t<tr><td>Pirates of the Caribbean: At World's End </td><td>Buena Vista                              </td><td>3.00e+08                                 </td><td>309420425                                </td><td> 960996492                               </td><td>25/5/2007                                </td><td>1.0314014                                </td><td>3.203322                                 </td><td>2000s                                    </td><td>Buena Vista                              </td></tr>\n",
       "\t<tr><td>Spider-Man 3                             </td><td>Sony                                     </td><td>2.58e+08                                 </td><td>336530303                                </td><td> 890871626                               </td><td>4/5/2007                                 </td><td>1.3043810                                </td><td>3.452991                                 </td><td>2000s                                    </td><td>Sony                                     </td></tr>\n",
       "\t<tr><td>Harry Potter and the Half-Blood Prince   </td><td>Warner Bros.                             </td><td>2.50e+08                                 </td><td>301959197                                </td><td> 937499905                               </td><td>15/7/2009                                </td><td>1.2078368                                </td><td>3.750000                                 </td><td>2000s                                    </td><td>Warner Bros.                             </td></tr>\n",
       "\t<tr><td>Avatar                                   </td><td>20th Century Fox                         </td><td>2.37e+08                                 </td><td>601141551                                </td><td>2046141551                               </td><td>18/12/2009                               </td><td>2.5364622                                </td><td>8.633509                                 </td><td>2000s                                    </td><td>20th Century Fox                         </td></tr>\n",
       "\t<tr><td>Superman Returns                         </td><td>Warner Bros.                             </td><td>2.32e+08                                 </td><td>200120000                                </td><td> 391120000                               </td><td>28/6/2006                                </td><td>0.8625862                                </td><td>1.685862                                 </td><td>2000s                                    </td><td>Warner Bros.                             </td></tr>\n",
       "\t<tr><td>Quantum of Solace                        </td><td>Sony Pictures                            </td><td>2.30e+08                                 </td><td>169368427                                </td><td> 576368427                               </td><td>14/11/2008                               </td><td>0.7363845                                </td><td>2.505950                                 </td><td>2000s                                    </td><td>Other                                    </td></tr>\n",
       "</tbody>\n",
       "</table>\n"
      ],
      "text/latex": [
       "\\begin{tabular}{r|llllllllll}\n",
       " Movie & Distributor & Budget & US.Gross & Worldwide.Gross & Release.Date & Ratio1 & Ratio2 & Decade & Distributor.New\\\\\n",
       "\\hline\n",
       "\t Pirates of the Caribbean: At World's End  & Buena Vista                               & 3.00e+08                                  & 309420425                                 &  960996492                                & 25/5/2007                                 & 1.0314014                                 & 3.203322                                  & 2000s                                     & Buena Vista                              \\\\\n",
       "\t Spider-Man 3                              & Sony                                      & 2.58e+08                                  & 336530303                                 &  890871626                                & 4/5/2007                                  & 1.3043810                                 & 3.452991                                  & 2000s                                     & Sony                                     \\\\\n",
       "\t Harry Potter and the Half-Blood Prince    & Warner Bros.                              & 2.50e+08                                  & 301959197                                 &  937499905                                & 15/7/2009                                 & 1.2078368                                 & 3.750000                                  & 2000s                                     & Warner Bros.                             \\\\\n",
       "\t Avatar                                    & 20th Century Fox                          & 2.37e+08                                  & 601141551                                 & 2046141551                                & 18/12/2009                                & 2.5364622                                 & 8.633509                                  & 2000s                                     & 20th Century Fox                         \\\\\n",
       "\t Superman Returns                          & Warner Bros.                              & 2.32e+08                                  & 200120000                                 &  391120000                                & 28/6/2006                                 & 0.8625862                                 & 1.685862                                  & 2000s                                     & Warner Bros.                             \\\\\n",
       "\t Quantum of Solace                         & Sony Pictures                             & 2.30e+08                                  & 169368427                                 &  576368427                                & 14/11/2008                                & 0.7363845                                 & 2.505950                                  & 2000s                                     & Other                                    \\\\\n",
       "\\end{tabular}\n"
      ],
      "text/markdown": [
       "\n",
       "Movie | Distributor | Budget | US.Gross | Worldwide.Gross | Release.Date | Ratio1 | Ratio2 | Decade | Distributor.New | \n",
       "|---|---|---|---|---|---|\n",
       "| Pirates of the Caribbean: At World's End  | Buena Vista                               | 3.00e+08                                  | 309420425                                 |  960996492                                | 25/5/2007                                 | 1.0314014                                 | 3.203322                                  | 2000s                                     | Buena Vista                               | \n",
       "| Spider-Man 3                              | Sony                                      | 2.58e+08                                  | 336530303                                 |  890871626                                | 4/5/2007                                  | 1.3043810                                 | 3.452991                                  | 2000s                                     | Sony                                      | \n",
       "| Harry Potter and the Half-Blood Prince    | Warner Bros.                              | 2.50e+08                                  | 301959197                                 |  937499905                                | 15/7/2009                                 | 1.2078368                                 | 3.750000                                  | 2000s                                     | Warner Bros.                              | \n",
       "| Avatar                                    | 20th Century Fox                          | 2.37e+08                                  | 601141551                                 | 2046141551                                | 18/12/2009                                | 2.5364622                                 | 8.633509                                  | 2000s                                     | 20th Century Fox                          | \n",
       "| Superman Returns                          | Warner Bros.                              | 2.32e+08                                  | 200120000                                 |  391120000                                | 28/6/2006                                 | 0.8625862                                 | 1.685862                                  | 2000s                                     | Warner Bros.                              | \n",
       "| Quantum of Solace                         | Sony Pictures                             | 2.30e+08                                  | 169368427                                 |  576368427                                | 14/11/2008                                | 0.7363845                                 | 2.505950                                  | 2000s                                     | Other                                     | \n",
       "\n",
       "\n"
      ],
      "text/plain": [
       "  Movie                                     Distributor      Budget   US.Gross \n",
       "1 Pirates of the Caribbean: At World's End  Buena Vista      3.00e+08 309420425\n",
       "2 Spider-Man 3                              Sony             2.58e+08 336530303\n",
       "3 Harry Potter and the Half-Blood Prince    Warner Bros.     2.50e+08 301959197\n",
       "4 Avatar                                    20th Century Fox 2.37e+08 601141551\n",
       "5 Superman Returns                          Warner Bros.     2.32e+08 200120000\n",
       "6 Quantum of Solace                         Sony Pictures    2.30e+08 169368427\n",
       "  Worldwide.Gross Release.Date Ratio1    Ratio2   Decade Distributor.New \n",
       "1  960996492      25/5/2007    1.0314014 3.203322 2000s  Buena Vista     \n",
       "2  890871626      4/5/2007     1.3043810 3.452991 2000s  Sony            \n",
       "3  937499905      15/7/2009    1.2078368 3.750000 2000s  Warner Bros.    \n",
       "4 2046141551      18/12/2009   2.5364622 8.633509 2000s  20th Century Fox\n",
       "5  391120000      28/6/2006    0.8625862 1.685862 2000s  Warner Bros.    \n",
       "6  576368427      14/11/2008   0.7363845 2.505950 2000s  Other           "
      ]
     },
     "metadata": {},
     "output_type": "display_data"
    }
   ],
   "source": [
    "movie$Distributor.New = movie$Distributor.New %>% unlist %>% as.factor\n",
    "movie$Decade = movie$Decade %>% unlist %>% as.factor\n",
    "movie_no_na_ratio1 = movie[!is.na(movie$Ratio1),]\n",
    "movie_no_na_ratio1 %>% head"
   ]
  },
  {
   "cell_type": "code",
   "execution_count": 23,
   "metadata": {},
   "outputs": [
    {
     "data": {
      "text/html": [
       "<table>\n",
       "<thead><tr><th></th><th scope=col>1980s</th><th scope=col>1990s</th><th scope=col>2000s</th></tr></thead>\n",
       "<tbody>\n",
       "\t<tr><th scope=row>20th Century Fox</th><td>6.4536975</td><td>1.8679641</td><td>1.404828 </td></tr>\n",
       "\t<tr><th scope=row>Buena Vista</th><td>1.2974482</td><td>1.5540065</td><td>1.510537 </td></tr>\n",
       "\t<tr><th scope=row>DreamWorks SKG</th><td>       NA</td><td>1.4596695</td><td>1.481016 </td></tr>\n",
       "\t<tr><th scope=row>MGM/UA</th><td>1.4262821</td><td>0.9595735</td><td>1.000322 </td></tr>\n",
       "\t<tr><th scope=row>Miramax</th><td>       NA</td><td>1.5197719</td><td>1.036425 </td></tr>\n",
       "\t<tr><th scope=row>New Line</th><td>       NA</td><td>1.6329213</td><td>1.368126 </td></tr>\n",
       "\t<tr><th scope=row>Other</th><td>1.5497760</td><td>1.3136328</td><td>0.941412 </td></tr>\n",
       "\t<tr><th scope=row>Paramount Pictures</th><td>4.1700674</td><td>1.9199089</td><td>1.226040 </td></tr>\n",
       "\t<tr><th scope=row>Sony</th><td>0.7612549</td><td>1.2123869</td><td>1.195014 </td></tr>\n",
       "\t<tr><th scope=row>Universal</th><td>1.3704634</td><td>1.4009825</td><td>1.311114 </td></tr>\n",
       "\t<tr><th scope=row>Warner Bros.</th><td>1.8047455</td><td>1.2542762</td><td>1.103905 </td></tr>\n",
       "</tbody>\n",
       "</table>\n"
      ],
      "text/latex": [
       "\\begin{tabular}{r|lll}\n",
       "  & 1980s & 1990s & 2000s\\\\\n",
       "\\hline\n",
       "\t20th Century Fox & 6.4536975 & 1.8679641 & 1.404828 \\\\\n",
       "\tBuena Vista & 1.2974482 & 1.5540065 & 1.510537 \\\\\n",
       "\tDreamWorks SKG &        NA & 1.4596695 & 1.481016 \\\\\n",
       "\tMGM/UA & 1.4262821 & 0.9595735 & 1.000322 \\\\\n",
       "\tMiramax &        NA & 1.5197719 & 1.036425 \\\\\n",
       "\tNew Line &        NA & 1.6329213 & 1.368126 \\\\\n",
       "\tOther & 1.5497760 & 1.3136328 & 0.941412 \\\\\n",
       "\tParamount Pictures & 4.1700674 & 1.9199089 & 1.226040 \\\\\n",
       "\tSony & 0.7612549 & 1.2123869 & 1.195014 \\\\\n",
       "\tUniversal & 1.3704634 & 1.4009825 & 1.311114 \\\\\n",
       "\tWarner Bros. & 1.8047455 & 1.2542762 & 1.103905 \\\\\n",
       "\\end{tabular}\n"
      ],
      "text/markdown": [
       "\n",
       "| <!--/--> | 1980s | 1990s | 2000s | \n",
       "|---|---|---|---|---|---|---|---|---|---|---|\n",
       "| 20th Century Fox | 6.4536975 | 1.8679641 | 1.404828  | \n",
       "| Buena Vista | 1.2974482 | 1.5540065 | 1.510537  | \n",
       "| DreamWorks SKG |        NA | 1.4596695 | 1.481016  | \n",
       "| MGM/UA | 1.4262821 | 0.9595735 | 1.000322  | \n",
       "| Miramax |        NA | 1.5197719 | 1.036425  | \n",
       "| New Line |        NA | 1.6329213 | 1.368126  | \n",
       "| Other | 1.5497760 | 1.3136328 | 0.941412  | \n",
       "| Paramount Pictures | 4.1700674 | 1.9199089 | 1.226040  | \n",
       "| Sony | 0.7612549 | 1.2123869 | 1.195014  | \n",
       "| Universal | 1.3704634 | 1.4009825 | 1.311114  | \n",
       "| Warner Bros. | 1.8047455 | 1.2542762 | 1.103905  | \n",
       "\n",
       "\n"
      ],
      "text/plain": [
       "                   1980s     1990s     2000s   \n",
       "20th Century Fox   6.4536975 1.8679641 1.404828\n",
       "Buena Vista        1.2974482 1.5540065 1.510537\n",
       "DreamWorks SKG            NA 1.4596695 1.481016\n",
       "MGM/UA             1.4262821 0.9595735 1.000322\n",
       "Miramax                   NA 1.5197719 1.036425\n",
       "New Line                  NA 1.6329213 1.368126\n",
       "Other              1.5497760 1.3136328 0.941412\n",
       "Paramount Pictures 4.1700674 1.9199089 1.226040\n",
       "Sony               0.7612549 1.2123869 1.195014\n",
       "Universal          1.3704634 1.4009825 1.311114\n",
       "Warner Bros.       1.8047455 1.2542762 1.103905"
      ]
     },
     "metadata": {},
     "output_type": "display_data"
    }
   ],
   "source": [
    "tapply(movie_no_na_ratio1$Ratio1, list(movie_no_na_ratio1$Distributor.New, movie_no_na_ratio1$Decade), mean)"
   ]
  },
  {
   "cell_type": "code",
   "execution_count": 24,
   "metadata": {},
   "outputs": [
    {
     "data": {
      "text/html": [
       "<table>\n",
       "<thead><tr><th></th><th scope=col>1980s</th><th scope=col>1990s</th><th scope=col>2000s</th></tr></thead>\n",
       "<tbody>\n",
       "\t<tr><th scope=row>20th Century Fox</th><td>5.5448037</td><td>2.1710730</td><td>0.9410372</td></tr>\n",
       "\t<tr><th scope=row>Buena Vista</th><td>1.2786737</td><td>1.8407333</td><td>1.1530428</td></tr>\n",
       "\t<tr><th scope=row>DreamWorks SKG</th><td>       NA</td><td>0.7710682</td><td>1.2578074</td></tr>\n",
       "\t<tr><th scope=row>MGM/UA</th><td>0.7798574</td><td>0.6295403</td><td>0.8098184</td></tr>\n",
       "\t<tr><th scope=row>Miramax</th><td>       NA</td><td>1.6972159</td><td>1.1267733</td></tr>\n",
       "\t<tr><th scope=row>New Line</th><td>       NA</td><td>1.5479200</td><td>1.2312609</td></tr>\n",
       "\t<tr><th scope=row>Other</th><td>2.1991272</td><td>1.7750028</td><td>1.4384081</td></tr>\n",
       "\t<tr><th scope=row>Paramount Pictures</th><td>3.4681975</td><td>1.7233681</td><td>0.9187660</td></tr>\n",
       "\t<tr><th scope=row>Sony</th><td>0.5683376</td><td>1.0230688</td><td>0.8240998</td></tr>\n",
       "\t<tr><th scope=row>Universal</th><td>0.8200718</td><td>1.1749222</td><td>1.0150481</td></tr>\n",
       "\t<tr><th scope=row>Warner Bros.</th><td>1.7566241</td><td>0.9931940</td><td>0.9558664</td></tr>\n",
       "</tbody>\n",
       "</table>\n"
      ],
      "text/latex": [
       "\\begin{tabular}{r|lll}\n",
       "  & 1980s & 1990s & 2000s\\\\\n",
       "\\hline\n",
       "\t20th Century Fox & 5.5448037 & 2.1710730 & 0.9410372\\\\\n",
       "\tBuena Vista & 1.2786737 & 1.8407333 & 1.1530428\\\\\n",
       "\tDreamWorks SKG &        NA & 0.7710682 & 1.2578074\\\\\n",
       "\tMGM/UA & 0.7798574 & 0.6295403 & 0.8098184\\\\\n",
       "\tMiramax &        NA & 1.6972159 & 1.1267733\\\\\n",
       "\tNew Line &        NA & 1.5479200 & 1.2312609\\\\\n",
       "\tOther & 2.1991272 & 1.7750028 & 1.4384081\\\\\n",
       "\tParamount Pictures & 3.4681975 & 1.7233681 & 0.9187660\\\\\n",
       "\tSony & 0.5683376 & 1.0230688 & 0.8240998\\\\\n",
       "\tUniversal & 0.8200718 & 1.1749222 & 1.0150481\\\\\n",
       "\tWarner Bros. & 1.7566241 & 0.9931940 & 0.9558664\\\\\n",
       "\\end{tabular}\n"
      ],
      "text/markdown": [
       "\n",
       "| <!--/--> | 1980s | 1990s | 2000s | \n",
       "|---|---|---|---|---|---|---|---|---|---|---|\n",
       "| 20th Century Fox | 5.5448037 | 2.1710730 | 0.9410372 | \n",
       "| Buena Vista | 1.2786737 | 1.8407333 | 1.1530428 | \n",
       "| DreamWorks SKG |        NA | 0.7710682 | 1.2578074 | \n",
       "| MGM/UA | 0.7798574 | 0.6295403 | 0.8098184 | \n",
       "| Miramax |        NA | 1.6972159 | 1.1267733 | \n",
       "| New Line |        NA | 1.5479200 | 1.2312609 | \n",
       "| Other | 2.1991272 | 1.7750028 | 1.4384081 | \n",
       "| Paramount Pictures | 3.4681975 | 1.7233681 | 0.9187660 | \n",
       "| Sony | 0.5683376 | 1.0230688 | 0.8240998 | \n",
       "| Universal | 0.8200718 | 1.1749222 | 1.0150481 | \n",
       "| Warner Bros. | 1.7566241 | 0.9931940 | 0.9558664 | \n",
       "\n",
       "\n"
      ],
      "text/plain": [
       "                   1980s     1990s     2000s    \n",
       "20th Century Fox   5.5448037 2.1710730 0.9410372\n",
       "Buena Vista        1.2786737 1.8407333 1.1530428\n",
       "DreamWorks SKG            NA 0.7710682 1.2578074\n",
       "MGM/UA             0.7798574 0.6295403 0.8098184\n",
       "Miramax                   NA 1.6972159 1.1267733\n",
       "New Line                  NA 1.5479200 1.2312609\n",
       "Other              2.1991272 1.7750028 1.4384081\n",
       "Paramount Pictures 3.4681975 1.7233681 0.9187660\n",
       "Sony               0.5683376 1.0230688 0.8240998\n",
       "Universal          0.8200718 1.1749222 1.0150481\n",
       "Warner Bros.       1.7566241 0.9931940 0.9558664"
      ]
     },
     "metadata": {},
     "output_type": "display_data"
    }
   ],
   "source": [
    "tapply(movie_no_na_ratio1$Ratio1, list(movie_no_na_ratio1$Distributor.New, movie_no_na_ratio1$Decade), sd)"
   ]
  },
  {
   "cell_type": "markdown",
   "metadata": {},
   "source": [
    "Do the same for Ratio2"
   ]
  },
  {
   "cell_type": "code",
   "execution_count": 25,
   "metadata": {},
   "outputs": [
    {
     "data": {
      "text/html": [
       "<table>\n",
       "<thead><tr><th scope=col>Movie</th><th scope=col>Distributor</th><th scope=col>Budget</th><th scope=col>US.Gross</th><th scope=col>Worldwide.Gross</th><th scope=col>Release.Date</th><th scope=col>Ratio1</th><th scope=col>Ratio2</th><th scope=col>Decade</th><th scope=col>Distributor.New</th></tr></thead>\n",
       "<tbody>\n",
       "\t<tr><td>Pirates of the Caribbean: At World's End </td><td>Buena Vista                              </td><td>3.00e+08                                 </td><td>309420425                                </td><td> 960996492                               </td><td>25/5/2007                                </td><td>1.0314014                                </td><td>3.203322                                 </td><td>2000s                                    </td><td>Buena Vista                              </td></tr>\n",
       "\t<tr><td>Spider-Man 3                             </td><td>Sony                                     </td><td>2.58e+08                                 </td><td>336530303                                </td><td> 890871626                               </td><td>4/5/2007                                 </td><td>1.3043810                                </td><td>3.452991                                 </td><td>2000s                                    </td><td>Sony                                     </td></tr>\n",
       "\t<tr><td>Harry Potter and the Half-Blood Prince   </td><td>Warner Bros.                             </td><td>2.50e+08                                 </td><td>301959197                                </td><td> 937499905                               </td><td>15/7/2009                                </td><td>1.2078368                                </td><td>3.750000                                 </td><td>2000s                                    </td><td>Warner Bros.                             </td></tr>\n",
       "\t<tr><td>Avatar                                   </td><td>20th Century Fox                         </td><td>2.37e+08                                 </td><td>601141551                                </td><td>2046141551                               </td><td>18/12/2009                               </td><td>2.5364622                                </td><td>8.633509                                 </td><td>2000s                                    </td><td>20th Century Fox                         </td></tr>\n",
       "\t<tr><td>Superman Returns                         </td><td>Warner Bros.                             </td><td>2.32e+08                                 </td><td>200120000                                </td><td> 391120000                               </td><td>28/6/2006                                </td><td>0.8625862                                </td><td>1.685862                                 </td><td>2000s                                    </td><td>Warner Bros.                             </td></tr>\n",
       "\t<tr><td>Quantum of Solace                        </td><td>Sony Pictures                            </td><td>2.30e+08                                 </td><td>169368427                                </td><td> 576368427                               </td><td>14/11/2008                               </td><td>0.7363845                                </td><td>2.505950                                 </td><td>2000s                                    </td><td>Other                                    </td></tr>\n",
       "</tbody>\n",
       "</table>\n"
      ],
      "text/latex": [
       "\\begin{tabular}{r|llllllllll}\n",
       " Movie & Distributor & Budget & US.Gross & Worldwide.Gross & Release.Date & Ratio1 & Ratio2 & Decade & Distributor.New\\\\\n",
       "\\hline\n",
       "\t Pirates of the Caribbean: At World's End  & Buena Vista                               & 3.00e+08                                  & 309420425                                 &  960996492                                & 25/5/2007                                 & 1.0314014                                 & 3.203322                                  & 2000s                                     & Buena Vista                              \\\\\n",
       "\t Spider-Man 3                              & Sony                                      & 2.58e+08                                  & 336530303                                 &  890871626                                & 4/5/2007                                  & 1.3043810                                 & 3.452991                                  & 2000s                                     & Sony                                     \\\\\n",
       "\t Harry Potter and the Half-Blood Prince    & Warner Bros.                              & 2.50e+08                                  & 301959197                                 &  937499905                                & 15/7/2009                                 & 1.2078368                                 & 3.750000                                  & 2000s                                     & Warner Bros.                             \\\\\n",
       "\t Avatar                                    & 20th Century Fox                          & 2.37e+08                                  & 601141551                                 & 2046141551                                & 18/12/2009                                & 2.5364622                                 & 8.633509                                  & 2000s                                     & 20th Century Fox                         \\\\\n",
       "\t Superman Returns                          & Warner Bros.                              & 2.32e+08                                  & 200120000                                 &  391120000                                & 28/6/2006                                 & 0.8625862                                 & 1.685862                                  & 2000s                                     & Warner Bros.                             \\\\\n",
       "\t Quantum of Solace                         & Sony Pictures                             & 2.30e+08                                  & 169368427                                 &  576368427                                & 14/11/2008                                & 0.7363845                                 & 2.505950                                  & 2000s                                     & Other                                    \\\\\n",
       "\\end{tabular}\n"
      ],
      "text/markdown": [
       "\n",
       "Movie | Distributor | Budget | US.Gross | Worldwide.Gross | Release.Date | Ratio1 | Ratio2 | Decade | Distributor.New | \n",
       "|---|---|---|---|---|---|\n",
       "| Pirates of the Caribbean: At World's End  | Buena Vista                               | 3.00e+08                                  | 309420425                                 |  960996492                                | 25/5/2007                                 | 1.0314014                                 | 3.203322                                  | 2000s                                     | Buena Vista                               | \n",
       "| Spider-Man 3                              | Sony                                      | 2.58e+08                                  | 336530303                                 |  890871626                                | 4/5/2007                                  | 1.3043810                                 | 3.452991                                  | 2000s                                     | Sony                                      | \n",
       "| Harry Potter and the Half-Blood Prince    | Warner Bros.                              | 2.50e+08                                  | 301959197                                 |  937499905                                | 15/7/2009                                 | 1.2078368                                 | 3.750000                                  | 2000s                                     | Warner Bros.                              | \n",
       "| Avatar                                    | 20th Century Fox                          | 2.37e+08                                  | 601141551                                 | 2046141551                                | 18/12/2009                                | 2.5364622                                 | 8.633509                                  | 2000s                                     | 20th Century Fox                          | \n",
       "| Superman Returns                          | Warner Bros.                              | 2.32e+08                                  | 200120000                                 |  391120000                                | 28/6/2006                                 | 0.8625862                                 | 1.685862                                  | 2000s                                     | Warner Bros.                              | \n",
       "| Quantum of Solace                         | Sony Pictures                             | 2.30e+08                                  | 169368427                                 |  576368427                                | 14/11/2008                                | 0.7363845                                 | 2.505950                                  | 2000s                                     | Other                                     | \n",
       "\n",
       "\n"
      ],
      "text/plain": [
       "  Movie                                     Distributor      Budget   US.Gross \n",
       "1 Pirates of the Caribbean: At World's End  Buena Vista      3.00e+08 309420425\n",
       "2 Spider-Man 3                              Sony             2.58e+08 336530303\n",
       "3 Harry Potter and the Half-Blood Prince    Warner Bros.     2.50e+08 301959197\n",
       "4 Avatar                                    20th Century Fox 2.37e+08 601141551\n",
       "5 Superman Returns                          Warner Bros.     2.32e+08 200120000\n",
       "6 Quantum of Solace                         Sony Pictures    2.30e+08 169368427\n",
       "  Worldwide.Gross Release.Date Ratio1    Ratio2   Decade Distributor.New \n",
       "1  960996492      25/5/2007    1.0314014 3.203322 2000s  Buena Vista     \n",
       "2  890871626      4/5/2007     1.3043810 3.452991 2000s  Sony            \n",
       "3  937499905      15/7/2009    1.2078368 3.750000 2000s  Warner Bros.    \n",
       "4 2046141551      18/12/2009   2.5364622 8.633509 2000s  20th Century Fox\n",
       "5  391120000      28/6/2006    0.8625862 1.685862 2000s  Warner Bros.    \n",
       "6  576368427      14/11/2008   0.7363845 2.505950 2000s  Other           "
      ]
     },
     "metadata": {},
     "output_type": "display_data"
    }
   ],
   "source": [
    "movie_no_na_ratio2 = movie[!is.na(movie$Ratio2),]\n",
    "movie_no_na_ratio2 %>% head"
   ]
  },
  {
   "cell_type": "code",
   "execution_count": 26,
   "metadata": {},
   "outputs": [
    {
     "data": {
      "text/html": [
       "<table>\n",
       "<thead><tr><th></th><th scope=col>1980s</th><th scope=col>1990s</th><th scope=col>2000s</th></tr></thead>\n",
       "<tbody>\n",
       "\t<tr><th scope=row>20th Century Fox</th><td>15.271532</td><td>4.908986 </td><td>3.085809 </td></tr>\n",
       "\t<tr><th scope=row>Buena Vista</th><td> 5.021429</td><td>4.951337 </td><td>3.013854 </td></tr>\n",
       "\t<tr><th scope=row>DreamWorks SKG</th><td>       NA</td><td>2.987287 </td><td>3.077311 </td></tr>\n",
       "\t<tr><th scope=row>MGM/UA</th><td> 5.475809</td><td>2.965809 </td><td>1.948251 </td></tr>\n",
       "\t<tr><th scope=row>Miramax</th><td>       NA</td><td>6.654492 </td><td>2.469122 </td></tr>\n",
       "\t<tr><th scope=row>New Line</th><td>       NA</td><td>4.305882 </td><td>2.653540 </td></tr>\n",
       "\t<tr><th scope=row>Other</th><td> 5.590751</td><td>4.646881 </td><td>2.065958 </td></tr>\n",
       "\t<tr><th scope=row>Paramount Pictures</th><td>10.471540</td><td>4.798510 </td><td>2.041589 </td></tr>\n",
       "\t<tr><th scope=row>Sony</th><td> 1.205438</td><td>3.207800 </td><td>2.206329 </td></tr>\n",
       "\t<tr><th scope=row>Universal</th><td> 6.449945</td><td>4.011126 </td><td>2.583798 </td></tr>\n",
       "\t<tr><th scope=row>Warner Bros.</th><td> 5.793610</td><td>3.128984 </td><td>2.415693 </td></tr>\n",
       "</tbody>\n",
       "</table>\n"
      ],
      "text/latex": [
       "\\begin{tabular}{r|lll}\n",
       "  & 1980s & 1990s & 2000s\\\\\n",
       "\\hline\n",
       "\t20th Century Fox & 15.271532 & 4.908986  & 3.085809 \\\\\n",
       "\tBuena Vista &  5.021429 & 4.951337  & 3.013854 \\\\\n",
       "\tDreamWorks SKG &        NA & 2.987287  & 3.077311 \\\\\n",
       "\tMGM/UA &  5.475809 & 2.965809  & 1.948251 \\\\\n",
       "\tMiramax &        NA & 6.654492  & 2.469122 \\\\\n",
       "\tNew Line &        NA & 4.305882  & 2.653540 \\\\\n",
       "\tOther &  5.590751 & 4.646881  & 2.065958 \\\\\n",
       "\tParamount Pictures & 10.471540 & 4.798510  & 2.041589 \\\\\n",
       "\tSony &  1.205438 & 3.207800  & 2.206329 \\\\\n",
       "\tUniversal &  6.449945 & 4.011126  & 2.583798 \\\\\n",
       "\tWarner Bros. &  5.793610 & 3.128984  & 2.415693 \\\\\n",
       "\\end{tabular}\n"
      ],
      "text/markdown": [
       "\n",
       "| <!--/--> | 1980s | 1990s | 2000s | \n",
       "|---|---|---|---|---|---|---|---|---|---|---|\n",
       "| 20th Century Fox | 15.271532 | 4.908986  | 3.085809  | \n",
       "| Buena Vista |  5.021429 | 4.951337  | 3.013854  | \n",
       "| DreamWorks SKG |        NA | 2.987287  | 3.077311  | \n",
       "| MGM/UA |  5.475809 | 2.965809  | 1.948251  | \n",
       "| Miramax |        NA | 6.654492  | 2.469122  | \n",
       "| New Line |        NA | 4.305882  | 2.653540  | \n",
       "| Other |  5.590751 | 4.646881  | 2.065958  | \n",
       "| Paramount Pictures | 10.471540 | 4.798510  | 2.041589  | \n",
       "| Sony |  1.205438 | 3.207800  | 2.206329  | \n",
       "| Universal |  6.449945 | 4.011126  | 2.583798  | \n",
       "| Warner Bros. |  5.793610 | 3.128984  | 2.415693  | \n",
       "\n",
       "\n"
      ],
      "text/plain": [
       "                   1980s     1990s    2000s   \n",
       "20th Century Fox   15.271532 4.908986 3.085809\n",
       "Buena Vista         5.021429 4.951337 3.013854\n",
       "DreamWorks SKG            NA 2.987287 3.077311\n",
       "MGM/UA              5.475809 2.965809 1.948251\n",
       "Miramax                   NA 6.654492 2.469122\n",
       "New Line                  NA 4.305882 2.653540\n",
       "Other               5.590751 4.646881 2.065958\n",
       "Paramount Pictures 10.471540 4.798510 2.041589\n",
       "Sony                1.205438 3.207800 2.206329\n",
       "Universal           6.449945 4.011126 2.583798\n",
       "Warner Bros.        5.793610 3.128984 2.415693"
      ]
     },
     "metadata": {},
     "output_type": "display_data"
    }
   ],
   "source": [
    "tapply(movie_no_na_ratio2$Ratio2, list(movie_no_na_ratio2$Distributor.New, movie_no_na_ratio2$Decade), mean)"
   ]
  },
  {
   "cell_type": "code",
   "execution_count": 27,
   "metadata": {},
   "outputs": [
    {
     "data": {
      "text/html": [
       "<table>\n",
       "<thead><tr><th></th><th scope=col>1980s</th><th scope=col>1990s</th><th scope=col>2000s</th></tr></thead>\n",
       "<tbody>\n",
       "\t<tr><th scope=row>20th Century Fox</th><td>9.352457</td><td>5.202599</td><td>2.177361</td></tr>\n",
       "\t<tr><th scope=row>Buena Vista</th><td>      NA</td><td>4.499135</td><td>1.976497</td></tr>\n",
       "\t<tr><th scope=row>DreamWorks SKG</th><td>      NA</td><td>2.085291</td><td>2.519094</td></tr>\n",
       "\t<tr><th scope=row>MGM/UA</th><td>1.394038</td><td>1.428849</td><td>1.740536</td></tr>\n",
       "\t<tr><th scope=row>Miramax</th><td>      NA</td><td>3.731387</td><td>2.770740</td></tr>\n",
       "\t<tr><th scope=row>New Line</th><td>      NA</td><td>3.624802</td><td>2.545434</td></tr>\n",
       "\t<tr><th scope=row>Other</th><td>5.905503</td><td>5.202903</td><td>2.528350</td></tr>\n",
       "\t<tr><th scope=row>Paramount Pictures</th><td>6.045767</td><td>4.165078</td><td>1.459566</td></tr>\n",
       "\t<tr><th scope=row>Sony</th><td>      NA</td><td>2.114846</td><td>1.431744</td></tr>\n",
       "\t<tr><th scope=row>Universal</th><td>3.229868</td><td>3.486881</td><td>2.021036</td></tr>\n",
       "\t<tr><th scope=row>Warner Bros.</th><td>5.412259</td><td>2.326209</td><td>2.115872</td></tr>\n",
       "</tbody>\n",
       "</table>\n"
      ],
      "text/latex": [
       "\\begin{tabular}{r|lll}\n",
       "  & 1980s & 1990s & 2000s\\\\\n",
       "\\hline\n",
       "\t20th Century Fox & 9.352457 & 5.202599 & 2.177361\\\\\n",
       "\tBuena Vista &       NA & 4.499135 & 1.976497\\\\\n",
       "\tDreamWorks SKG &       NA & 2.085291 & 2.519094\\\\\n",
       "\tMGM/UA & 1.394038 & 1.428849 & 1.740536\\\\\n",
       "\tMiramax &       NA & 3.731387 & 2.770740\\\\\n",
       "\tNew Line &       NA & 3.624802 & 2.545434\\\\\n",
       "\tOther & 5.905503 & 5.202903 & 2.528350\\\\\n",
       "\tParamount Pictures & 6.045767 & 4.165078 & 1.459566\\\\\n",
       "\tSony &       NA & 2.114846 & 1.431744\\\\\n",
       "\tUniversal & 3.229868 & 3.486881 & 2.021036\\\\\n",
       "\tWarner Bros. & 5.412259 & 2.326209 & 2.115872\\\\\n",
       "\\end{tabular}\n"
      ],
      "text/markdown": [
       "\n",
       "| <!--/--> | 1980s | 1990s | 2000s | \n",
       "|---|---|---|---|---|---|---|---|---|---|---|\n",
       "| 20th Century Fox | 9.352457 | 5.202599 | 2.177361 | \n",
       "| Buena Vista |       NA | 4.499135 | 1.976497 | \n",
       "| DreamWorks SKG |       NA | 2.085291 | 2.519094 | \n",
       "| MGM/UA | 1.394038 | 1.428849 | 1.740536 | \n",
       "| Miramax |       NA | 3.731387 | 2.770740 | \n",
       "| New Line |       NA | 3.624802 | 2.545434 | \n",
       "| Other | 5.905503 | 5.202903 | 2.528350 | \n",
       "| Paramount Pictures | 6.045767 | 4.165078 | 1.459566 | \n",
       "| Sony |       NA | 2.114846 | 1.431744 | \n",
       "| Universal | 3.229868 | 3.486881 | 2.021036 | \n",
       "| Warner Bros. | 5.412259 | 2.326209 | 2.115872 | \n",
       "\n",
       "\n"
      ],
      "text/plain": [
       "                   1980s    1990s    2000s   \n",
       "20th Century Fox   9.352457 5.202599 2.177361\n",
       "Buena Vista              NA 4.499135 1.976497\n",
       "DreamWorks SKG           NA 2.085291 2.519094\n",
       "MGM/UA             1.394038 1.428849 1.740536\n",
       "Miramax                  NA 3.731387 2.770740\n",
       "New Line                 NA 3.624802 2.545434\n",
       "Other              5.905503 5.202903 2.528350\n",
       "Paramount Pictures 6.045767 4.165078 1.459566\n",
       "Sony                     NA 2.114846 1.431744\n",
       "Universal          3.229868 3.486881 2.021036\n",
       "Warner Bros.       5.412259 2.326209 2.115872"
      ]
     },
     "metadata": {},
     "output_type": "display_data"
    }
   ],
   "source": [
    "tapply(movie_no_na_ratio2$Ratio2, list(movie_no_na_ratio2$Distributor.New, movie_no_na_ratio2$Decade), sd)"
   ]
  }
 ],
 "metadata": {
  "kernelspec": {
   "display_name": "R",
   "language": "R",
   "name": "ir"
  },
  "language_info": {
   "codemirror_mode": "r",
   "file_extension": ".r",
   "mimetype": "text/x-r-source",
   "name": "R",
   "pygments_lexer": "r",
   "version": "3.4.3"
  }
 },
 "nbformat": 4,
 "nbformat_minor": 2
}
